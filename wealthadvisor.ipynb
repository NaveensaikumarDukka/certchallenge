{
 "cells": [
  {
   "cell_type": "markdown",
   "id": "d6cf508e",
   "metadata": {},
   "source": [
    "Building an AI-powered Wealth Advisor Copilot — a platform that helps financial advisors."
   ]
  },
  {
   "cell_type": "markdown",
   "id": "16783ad9",
   "metadata": {},
   "source": [
    "Dependencies and API Keys"
   ]
  },
  {
   "cell_type": "code",
   "execution_count": 5,
   "id": "d661f09d",
   "metadata": {},
   "outputs": [],
   "source": [
    "import os\n",
    "import getpass\n",
    "\n",
    "os.environ[\"OPENAI_API_KEY\"] = getpass.getpass(\"OpenAI API Key:\")\n",
    "os.environ[\"TAVILY_API_KEY\"] = getpass.getpass(\"TAVILY_API_KEY\")\n"
   ]
  },
  {
   "cell_type": "code",
   "execution_count": 6,
   "id": "2efbcdc0",
   "metadata": {},
   "outputs": [],
   "source": [
    "from uuid import uuid4\n",
    "\n",
    "os.environ[\"LANGCHAIN_TRACING_V2\"] = \"true\"\n",
    "os.environ[\"LANGCHAIN_PROJECT\"] = f\"AIM-Certification-Challenge - {uuid4().hex[0:8]}\"\n",
    "os.environ[\"LANGCHAIN_API_KEY\"] = getpass.getpass(\"LangSmith API Key: \")"
   ]
  },
  {
   "cell_type": "markdown",
   "id": "3044aaf8",
   "metadata": {},
   "source": [
    "API DATA"
   ]
  },
  {
   "cell_type": "code",
   "execution_count": 7,
   "id": "2ff908e4",
   "metadata": {},
   "outputs": [
    {
     "name": "stderr",
     "output_type": "stream",
     "text": [
      "USER_AGENT environment variable not set, consider setting it to identify your requests.\n",
      "/tmp/ipykernel_37051/1722258708.py:5: LangChainDeprecationWarning: The class `TavilySearchResults` was deprecated in LangChain 0.3.25 and will be removed in 1.0. An updated version of the class exists in the :class:`~langchain-tavily package and should be used instead. To use it run `pip install -U :class:`~langchain-tavily` and import as `from :class:`~langchain_tavily import TavilySearch``.\n",
      "  tavily_tool = TavilySearchResults(max_results=5)\n"
     ]
    }
   ],
   "source": [
    "from langchain_community.tools.tavily_search import TavilySearchResults\n",
    "from langchain_community.tools.arxiv.tool import ArxivQueryRun\n",
    "from langchain_community.tools.yahoo_finance_news import YahooFinanceNewsTool\n",
    "\n",
    "tavily_tool = TavilySearchResults(max_results=5)\n",
    "arxiv_tool = ArxivQueryRun()\n",
    "yfinance_tool = YahooFinanceNewsTool()"
   ]
  },
  {
   "cell_type": "markdown",
   "id": "bddd146d",
   "metadata": {},
   "source": [
    "AI Agent"
   ]
  },
  {
   "cell_type": "code",
   "execution_count": 8,
   "id": "d4ec865f",
   "metadata": {},
   "outputs": [],
   "source": [
    "from langchain_community.document_loaders import DirectoryLoader\n",
    "from langchain_community.document_loaders import PyMuPDFLoader\n",
    "\n",
    "\n",
    "path = \"datanote/\"\n",
    "loader = DirectoryLoader(path, glob=\"*.pdf\", loader_cls=PyMuPDFLoader)\n",
    "docs = loader.load()"
   ]
  },
  {
   "cell_type": "markdown",
   "id": "9362552b",
   "metadata": {},
   "source": [
    "Chuncking Documents"
   ]
  },
  {
   "cell_type": "code",
   "execution_count": 9,
   "id": "0d4d49d2",
   "metadata": {},
   "outputs": [
    {
     "data": {
      "text/plain": [
       "576"
      ]
     },
     "execution_count": 9,
     "metadata": {},
     "output_type": "execute_result"
    }
   ],
   "source": [
    "from langchain.text_splitter import RecursiveCharacterTextSplitter\n",
    "\n",
    "text_splitter = RecursiveCharacterTextSplitter(\n",
    "    chunk_size = 750,\n",
    "    chunk_overlap = 100,\n",
    ")\n",
    "split_documents = text_splitter.split_documents(docs)\n",
    "len(split_documents)\n"
   ]
  },
  {
   "cell_type": "markdown",
   "id": "e6715f0e",
   "metadata": {},
   "source": [
    "Embedding Model"
   ]
  },
  {
   "cell_type": "code",
   "execution_count": 10,
   "id": "9684c0ec",
   "metadata": {},
   "outputs": [],
   "source": [
    "from langchain_openai.embeddings import OpenAIEmbeddings\n",
    "\n",
    "embeddings = OpenAIEmbeddings(model=\"text-embedding-3-small\")"
   ]
  },
  {
   "cell_type": "markdown",
   "id": "24b75c57",
   "metadata": {},
   "source": [
    "Qdrant Vectore Database"
   ]
  },
  {
   "cell_type": "code",
   "execution_count": 11,
   "id": "e6b2c8e4",
   "metadata": {},
   "outputs": [],
   "source": [
    "from langchain_qdrant import QdrantVectorStore\n",
    "from qdrant_client import QdrantClient\n",
    "from qdrant_client.models import Distance, VectorParams\n",
    "\n",
    "client = QdrantClient(\":memory:\")\n",
    "\n",
    "client.create_collection(\n",
    "    collection_name=\"client_collection\",\n",
    "    vectors_config=VectorParams(size=1536, distance=Distance.COSINE),\n",
    ")\n",
    "\n",
    "\n",
    "vector_store = QdrantVectorStore(\n",
    "    client=client,\n",
    "    collection_name=\"client_collection\",\n",
    "    embedding=embeddings,\n",
    ")"
   ]
  },
  {
   "cell_type": "markdown",
   "id": "8fd70389",
   "metadata": {},
   "source": [
    "Add splitted Documents to vectore store"
   ]
  },
  {
   "cell_type": "code",
   "execution_count": 12,
   "id": "da609527",
   "metadata": {},
   "outputs": [],
   "source": [
    "_ = vector_store.add_documents(documents=split_documents)"
   ]
  },
  {
   "cell_type": "markdown",
   "id": "9e878169",
   "metadata": {},
   "source": [
    "Retriever"
   ]
  },
  {
   "cell_type": "code",
   "execution_count": 18,
   "id": "2f8bb278",
   "metadata": {},
   "outputs": [],
   "source": [
    "retriever = vector_store.as_retriever(search_kwargs={\"k\": 5})"
   ]
  },
  {
   "cell_type": "markdown",
   "id": "543c2568",
   "metadata": {},
   "source": [
    "Contextual Compression Retriever"
   ]
  },
  {
   "cell_type": "markdown",
   "id": "2421d4e4",
   "metadata": {},
   "source": [
    "Prompt Template"
   ]
  },
  {
   "cell_type": "code",
   "execution_count": 21,
   "id": "0861e83e",
   "metadata": {},
   "outputs": [],
   "source": [
    "from langchain.prompts import ChatPromptTemplate\n",
    "\n",
    "RAG_PROMPT = \"\"\"\\\n",
    "You are a helpful assistant who answers questions based on provided context. You must only use the provided context, and cannot use your own knowledge.\n",
    "\n",
    "### Question\n",
    "{question}\n",
    "\n",
    "### Context\n",
    "{context}\n",
    "\"\"\"\n",
    "\n",
    "rag_prompt = ChatPromptTemplate.from_template(RAG_PROMPT)"
   ]
  },
  {
   "cell_type": "markdown",
   "id": "96760314",
   "metadata": {},
   "source": [
    "Open AI Chat GPT Model"
   ]
  },
  {
   "cell_type": "code",
   "execution_count": 22,
   "id": "215ff790",
   "metadata": {},
   "outputs": [],
   "source": [
    "from langchain_openai import ChatOpenAI\n",
    "\n",
    "llm = ChatOpenAI(model=\"gpt-4.1-nano\")"
   ]
  },
  {
   "cell_type": "markdown",
   "id": "e270c9b6",
   "metadata": {},
   "source": [
    "Langgraph State"
   ]
  },
  {
   "cell_type": "code",
   "execution_count": 23,
   "id": "22287068",
   "metadata": {},
   "outputs": [],
   "source": [
    "from langgraph.graph import START, StateGraph\n",
    "from typing_extensions import TypedDict\n",
    "from langchain_core.documents import Document\n",
    "\n",
    "class State(TypedDict):\n",
    "  question: str\n",
    "  context: list[Document]\n",
    "  response: str"
   ]
  },
  {
   "cell_type": "code",
   "execution_count": 24,
   "id": "af2193dd",
   "metadata": {},
   "outputs": [],
   "source": [
    "from langchain.retrievers.contextual_compression import ContextualCompressionRetriever\n",
    "\n",
    "def retrieve(state: State) -> State:\n",
    "  retrieved_docs = retriever.invoke(state[\"question\"])\n",
    "  return {\"context\" : retrieved_docs}"
   ]
  },
  {
   "cell_type": "code",
   "execution_count": 25,
   "id": "378f4abf",
   "metadata": {},
   "outputs": [],
   "source": [
    "def generate(state):\n",
    "    docs_content = \"\\n\\n\".join([doc.page_content for doc in state[\"context\"]])\n",
    "    messages = rag_prompt.format_messages(question=state[\"question\"], context=docs_content)\n",
    "    response = llm.invoke(messages)\n",
    "    return {\"response\": response.content}"
   ]
  },
  {
   "cell_type": "markdown",
   "id": "06613774",
   "metadata": {},
   "source": [
    "Building Langgraph"
   ]
  },
  {
   "cell_type": "code",
   "execution_count": 26,
   "id": "2042b984",
   "metadata": {},
   "outputs": [],
   "source": [
    "graph_builder = StateGraph(State).add_sequence([retrieve, generate])\n",
    "graph_builder.add_edge(START, \"retrieve\")\n",
    "rag_graph = graph_builder.compile()"
   ]
  },
  {
   "cell_type": "code",
   "execution_count": 27,
   "id": "c9cc4dc2",
   "metadata": {},
   "outputs": [
    {
     "data": {
      "image/png": "[encoded data removed]",
      "text/plain": [
       "<langgraph.graph.state.CompiledStateGraph object at 0x7fb1752a9400>"
      ]
     },
     "execution_count": 27,
     "metadata": {},
     "output_type": "execute_result"
    }
   ],
   "source": [
    "rag_graph"
   ]
  },
  {
   "cell_type": "code",
   "execution_count": null,
   "id": "62a82f3d",
   "metadata": {},
   "outputs": [
    {
     "name": "stderr",
     "output_type": "stream",
     "text": [
      "Failed to send compressed multipart ingest: langsmith.utils.LangSmithError: Failed to POST https://api.smith.langchain.com/runs/multipart in LangSmith API. HTTPError('400 Client Error: Bad Request for url: https://api.smith.langchain.com/runs/multipart', '{\"error\":\"Bad request: invalid \\'dotted_order\\': dotted_order ec50f01a-166c-4282-8391-f7b43bc75e5f has timestamp 2025-08-04 03:48:02.218044 +0000 UTC earlier than parent timestamp 2025-08-04 03:48:03.715417 +0000 UTC for run_id:ec50f01a-166c-4282-8391-f7b43bc75e5f trace_id:f223d267-5284-414a-b54e-5b316da0404e dotted_order:20250804T034802227406Zf223d267-5284-414a-b54e-5b316da0404e.20250804T034803694427Zc5bede32-29c3-4b73-949b-a2d4be17e2e8.20250804T034803715417Z8ae69eb2-26bf-497e-bfcd-121a5dc09140.20250804T034802218044Zec50f01a-166c-4282-8391-f7b43bc75e5f parent_run_id:8ae69eb2-26bf-497e-bfcd-121a5dc09140\"}\\n')\n",
      "Failed to send compressed multipart ingest: langsmith.utils.LangSmithError: Failed to POST https://api.smith.langchain.com/runs/multipart in LangSmith API. HTTPError('400 Client Error: Bad Request for url: https://api.smith.langchain.com/runs/multipart', '{\"error\":\"Bad request: invalid \\'dotted_order\\': dotted_order 603c1512-f762-43c5-aace-58f0bd1039ff has timestamp 2025-08-04 03:48:02.98702 +0000 UTC earlier than parent timestamp 2025-08-04 03:48:03.715417 +0000 UTC for run_id:603c1512-f762-43c5-aace-58f0bd1039ff trace_id:f223d267-5284-414a-b54e-5b316da0404e dotted_order:20250804T034802227406Zf223d267-5284-414a-b54e-5b316da0404e.20250804T034803694427Zc5bede32-29c3-4b73-949b-a2d4be17e2e8.20250804T034803715417Z8ae69eb2-26bf-497e-bfcd-121a5dc09140.20250804T034802987020Z603c1512-f762-43c5-aace-58f0bd1039ff parent_run_id:8ae69eb2-26bf-497e-bfcd-121a5dc09140\"}\\n')\n",
      "Failed to send compressed multipart ingest: langsmith.utils.LangSmithError: Failed to POST https://api.smith.langchain.com/runs/multipart in LangSmith API. HTTPError('400 Client Error: Bad Request for url: https://api.smith.langchain.com/runs/multipart', '{\"error\":\"Bad request: invalid \\'dotted_order\\': dotted_order ea5f96b3-6656-4978-b82d-bc883aa645b4 has timestamp 2025-08-04 03:48:02.220401 +0000 UTC earlier than parent timestamp 2025-08-04 03:48:03.694427 +0000 UTC for run_id:9cce858c-da56-49f2-8851-4d18049b0d4a trace_id:f223d267-5284-414a-b54e-5b316da0404e dotted_order:20250804T034802227406Zf223d267-5284-414a-b54e-5b316da0404e.20250804T034803694427Zc5bede32-29c3-4b73-949b-a2d4be17e2e8.20250804T034802220401Zea5f96b3-6656-4978-b82d-bc883aa645b4.20250804T034804248466Z9cce858c-da56-49f2-8851-4d18049b0d4a parent_run_id:ea5f96b3-6656-4978-b82d-bc883aa645b4\"}\\n')\n",
      "Failed to send compressed multipart ingest: langsmith.utils.LangSmithError: Failed to POST https://api.smith.langchain.com/runs/multipart in LangSmith API. HTTPError('400 Client Error: Bad Request for url: https://api.smith.langchain.com/runs/multipart', '{\"error\":\"Bad request: invalid \\'dotted_order\\': dotted_order 4e1892ac-103b-4e72-9ad9-5d5c3575bcfc has timestamp 2025-08-04 04:26:03.341116 +0000 UTC earlier than parent timestamp 2025-08-04 04:26:03.713735 +0000 UTC for run_id:4e1892ac-103b-4e72-9ad9-5d5c3575bcfc trace_id:2d5684ef-71c9-461b-812f-413c20efe4d6 dotted_order:20250804T042559186749Z2d5684ef-71c9-461b-812f-413c20efe4d6.20250804T042603713735Z7fae565a-9287-427f-83e2-6ee7d5d2da87.20250804T042603341116Z4e1892ac-103b-4e72-9ad9-5d5c3575bcfc parent_run_id:7fae565a-9287-427f-83e2-6ee7d5d2da87\"}\\n')\n",
      "Failed to send compressed multipart ingest: langsmith.utils.LangSmithError: Failed to POST https://api.smith.langchain.com/runs/multipart in LangSmith API. HTTPError('400 Client Error: Bad Request for url: https://api.smith.langchain.com/runs/multipart', '{\"error\":\"Bad request: invalid \\'dotted_order\\': dotted_order dc8a1d9b-539f-432d-b906-9ba4ffbef25d has timestamp 2025-08-04 04:45:17.57625 +0000 UTC earlier than parent timestamp 2025-08-04 04:45:19.174173 +0000 UTC for run_id:dc8a1d9b-539f-432d-b906-9ba4ffbef25d trace_id:e0e1eac2-c5e6-41df-9d00-c8ad3e069d44 dotted_order:20250804T044518213821Ze0e1eac2-c5e6-41df-9d00-c8ad3e069d44.20250804T044519170039Ze3928012-a9fd-48d7-b1f7-cd8688086f30.20250804T044519171647Zd3ace7a0-cbad-4589-b97b-d5845d7c9f92.20250804T044519174173Zd9e42395-57cf-4f09-8497-7112c5747a4f.20250804T044517576250Zdc8a1d9b-539f-432d-b906-9ba4ffbef25d parent_run_id:d9e42395-57cf-4f09-8497-7112c5747a4f\"}\\n')\n",
      "Failed to send compressed multipart ingest: langsmith.utils.LangSmithError: Failed to POST https://api.smith.langchain.com/runs/multipart in LangSmith API. HTTPError('400 Client Error: Bad Request for url: https://api.smith.langchain.com/runs/multipart', '{\"error\":\"Bad request: invalid \\'dotted_order\\': dotted_order dc8a1d9b-539f-432d-b906-9ba4ffbef25d has timestamp 2025-08-04 04:45:17.57625 +0000 UTC earlier than parent timestamp 2025-08-04 04:45:19.174173 +0000 UTC for run_id:52d80174-942c-411d-9ff7-4d0390217ae3 trace_id:e0e1eac2-c5e6-41df-9d00-c8ad3e069d44 dotted_order:20250804T044518213821Ze0e1eac2-c5e6-41df-9d00-c8ad3e069d44.20250804T044519170039Ze3928012-a9fd-48d7-b1f7-cd8688086f30.20250804T044519171647Zd3ace7a0-cbad-4589-b97b-d5845d7c9f92.20250804T044519174173Zd9e42395-57cf-4f09-8497-7112c5747a4f.20250804T044517576250Zdc8a1d9b-539f-432d-b906-9ba4ffbef25d.20250804T044517582679Z52d80174-942c-411d-9ff7-4d0390217ae3 parent_run_id:dc8a1d9b-539f-432d-b906-9ba4ffbef25d\"}\\n')\n",
      "Failed to send compressed multipart ingest: langsmith.utils.LangSmithError: Failed to POST https://api.smith.langchain.com/runs/multipart in LangSmith API. HTTPError('400 Client Error: Bad Request for url: https://api.smith.langchain.com/runs/multipart', '{\"error\":\"Bad request: invalid \\'dotted_order\\': dotted_order 134a6bff-399e-4c4a-97a9-f43fb456ff7a has timestamp 2025-08-04 04:47:47.410435 +0000 UTC earlier than parent timestamp 2025-08-04 04:47:49.007595 +0000 UTC for run_id:134a6bff-399e-4c4a-97a9-f43fb456ff7a trace_id:bccd0558-54fe-4cc5-ba15-173524c0bcf3 dotted_order:20250804T044748367092Zbccd0558-54fe-4cc5-ba15-173524c0bcf3.20250804T044749003636Z0d21496f-ee4c-4ca3-9686-c823dd185aeb.20250804T044749005680Z9b0ebd2b-fa22-4852-9434-f2a0ffadae69.20250804T044749007595Z1b06f665-353d-4490-b358-7f76b2482123.20250804T044747410435Z134a6bff-399e-4c4a-97a9-f43fb456ff7a parent_run_id:1b06f665-353d-4490-b358-7f76b2482123\"}\\n')\n",
      "Failed to send compressed multipart ingest: langsmith.utils.LangSmithError: Failed to POST https://api.smith.langchain.com/runs/multipart in LangSmith API. HTTPError('400 Client Error: Bad Request for url: https://api.smith.langchain.com/runs/multipart', '{\"error\":\"Bad request: invalid \\'dotted_order\\': dotted_order 90b2cd6c-6290-4114-a25f-40f60e24a031 has timestamp 2025-08-04 04:47:47.968702 +0000 UTC earlier than parent timestamp 2025-08-04 04:47:48.367092 +0000 UTC for run_id:90b2cd6c-6290-4114-a25f-40f60e24a031 trace_id:bccd0558-54fe-4cc5-ba15-173524c0bcf3 dotted_order:20250804T044748367092Zbccd0558-54fe-4cc5-ba15-173524c0bcf3.20250804T044747968702Z90b2cd6c-6290-4114-a25f-40f60e24a031 parent_run_id:bccd0558-54fe-4cc5-ba15-173524c0bcf3\"}\\n')\n",
      "Failed to send compressed multipart ingest: langsmith.utils.LangSmithError: Failed to POST https://api.smith.langchain.com/runs/multipart in LangSmith API. HTTPError('400 Client Error: Bad Request for url: https://api.smith.langchain.com/runs/multipart', '{\"error\":\"Bad request: invalid \\'dotted_order\\': dotted_order ebcf3661-4062-443e-b21d-2b05cb2c66cf has timestamp 2025-08-04 04:48:17.304744 +0000 UTC earlier than parent timestamp 2025-08-04 04:48:18.891835 +0000 UTC for run_id:ebcf3661-4062-443e-b21d-2b05cb2c66cf trace_id:72977a90-e4dd-4162-a9c3-8e08415178e0 dotted_order:20250804T044818889979Z72977a90-e4dd-4162-a9c3-8e08415178e0.20250804T044818891835Zd60687af-86d7-4fe1-8c04-bc32e619339c.20250804T044817304744Zebcf3661-4062-443e-b21d-2b05cb2c66cf parent_run_id:d60687af-86d7-4fe1-8c04-bc32e619339c\"}\\n')\n",
      "Failed to send compressed multipart ingest: langsmith.utils.LangSmithError: Failed to POST https://api.smith.langchain.com/runs/multipart in LangSmith API. HTTPError('400 Client Error: Bad Request for url: https://api.smith.langchain.com/runs/multipart', '{\"error\":\"Bad request: invalid \\'dotted_order\\': dotted_order 7abfa70c-aa30-4104-8006-3aabbf8cbb8b has timestamp 2025-08-04 04:48:17.306536 +0000 UTC earlier than parent timestamp 2025-08-04 04:48:18.889979 +0000 UTC for run_id:3c5029ac-a5fa-4b9e-a24c-48226fa3cbea trace_id:72977a90-e4dd-4162-a9c3-8e08415178e0 dotted_order:20250804T044818889979Z72977a90-e4dd-4162-a9c3-8e08415178e0.20250804T044817306536Z7abfa70c-aa30-4104-8006-3aabbf8cbb8b.20250804T044817308170Z74efcb6d-3750-4af4-8720-9fb5f28b760b.20250804T044817310150Zc0c111b1-6ad6-4f3b-b989-8afa4b0e4804.20250804T044817938391Z3c5029ac-a5fa-4b9e-a24c-48226fa3cbea parent_run_id:c0c111b1-6ad6-4f3b-b989-8afa4b0e4804\"}\\n')\n",
      "Failed to send compressed multipart ingest: langsmith.utils.LangSmithError: Failed to POST https://api.smith.langchain.com/runs/multipart in LangSmith API. HTTPError('400 Client Error: Bad Request for url: https://api.smith.langchain.com/runs/multipart', '{\"error\":\"Bad request: invalid \\'dotted_order\\': dotted_order 7abfa70c-aa30-4104-8006-3aabbf8cbb8b has timestamp 2025-08-04 04:48:17.306536 +0000 UTC earlier than parent timestamp 2025-08-04 04:48:18.889979 +0000 UTC for run_id:c0c111b1-6ad6-4f3b-b989-8afa4b0e4804 trace_id:72977a90-e4dd-4162-a9c3-8e08415178e0 dotted_order:20250804T044818889979Z72977a90-e4dd-4162-a9c3-8e08415178e0.20250804T044817306536Z7abfa70c-aa30-4104-8006-3aabbf8cbb8b.20250804T044817308170Z74efcb6d-3750-4af4-8720-9fb5f28b760b.20250804T044817310150Zc0c111b1-6ad6-4f3b-b989-8afa4b0e4804 parent_run_id:74efcb6d-3750-4af4-8720-9fb5f28b760b\"}\\n')\n",
      "Failed to send compressed multipart ingest: langsmith.utils.LangSmithError: Failed to POST https://api.smith.langchain.com/runs/multipart in LangSmith API. HTTPError('400 Client Error: Bad Request for url: https://api.smith.langchain.com/runs/multipart', '{\"error\":\"Bad request: invalid \\'dotted_order\\': dotted_order ebcb5c64-9d03-412f-ad1a-52eec2cb40aa has timestamp 2025-08-04 04:54:18.657212 +0000 UTC earlier than parent timestamp 2025-08-04 04:54:19.148075 +0000 UTC for run_id:ebcb5c64-9d03-412f-ad1a-52eec2cb40aa trace_id:9aec1de9-e738-4f5c-ac13-b959e3b6ca52 dotted_order:20250804T045419148075Z9aec1de9-e738-4f5c-ac13-b959e3b6ca52.20250804T045418657212Zebcb5c64-9d03-412f-ad1a-52eec2cb40aa parent_run_id:9aec1de9-e738-4f5c-ac13-b959e3b6ca52\"}\\n')\n",
      "Failed to send compressed multipart ingest: langsmith.utils.LangSmithError: Failed to POST https://api.smith.langchain.com/runs/multipart in LangSmith API. HTTPError('400 Client Error: Bad Request for url: https://api.smith.langchain.com/runs/multipart', '{\"error\":\"Bad request: invalid \\'dotted_order\\': dotted_order ebcb5c64-9d03-412f-ad1a-52eec2cb40aa has timestamp 2025-08-04 04:54:18.657212 +0000 UTC earlier than parent timestamp 2025-08-04 04:54:19.148075 +0000 UTC for run_id:874759b4-cd8e-421c-8985-3582f54d14ec trace_id:9aec1de9-e738-4f5c-ac13-b959e3b6ca52 dotted_order:20250804T045419148075Z9aec1de9-e738-4f5c-ac13-b959e3b6ca52.20250804T045418657212Zebcb5c64-9d03-412f-ad1a-52eec2cb40aa.20250804T045419795636Z874759b4-cd8e-421c-8985-3582f54d14ec parent_run_id:ebcb5c64-9d03-412f-ad1a-52eec2cb40aa\"}\\n')\n",
      "Failed to send compressed multipart ingest: langsmith.utils.LangSmithError: Failed to POST https://api.smith.langchain.com/runs/multipart in LangSmith API. HTTPError('400 Client Error: Bad Request for url: https://api.smith.langchain.com/runs/multipart', '{\"error\":\"Bad request: invalid \\'dotted_order\\': dotted_order bb0d4842-5adc-4c82-bf6a-69d2b9118a87 has timestamp 2025-08-04 04:57:48.169768 +0000 UTC earlier than parent timestamp 2025-08-04 04:57:49.764232 +0000 UTC for run_id:bb0d4842-5adc-4c82-bf6a-69d2b9118a87 trace_id:2890c3d0-b60c-430d-90bd-26031eb24038 dotted_order:20250804T045749762085Z2890c3d0-b60c-430d-90bd-26031eb24038.20250804T045749764232Zee8d90c8-2d9d-4e52-b647-adcc42aa2f1f.20250804T045748169768Zbb0d4842-5adc-4c82-bf6a-69d2b9118a87 parent_run_id:ee8d90c8-2d9d-4e52-b647-adcc42aa2f1f\"}\\n')\n",
      "Failed to send compressed multipart ingest: langsmith.utils.LangSmithError: Failed to POST https://api.smith.langchain.com/runs/multipart in LangSmith API. HTTPError('400 Client Error: Bad Request for url: https://api.smith.langchain.com/runs/multipart', '{\"error\":\"Bad request: invalid \\'dotted_order\\': dotted_order 62fc783e-58a4-4eb7-9437-9cff7a25ea63 has timestamp 2025-08-04 04:57:48.171793 +0000 UTC earlier than parent timestamp 2025-08-04 04:57:49.762085 +0000 UTC for run_id:4bff8c78-2d34-46d1-9d43-c2e58cc0c8b5 trace_id:2890c3d0-b60c-430d-90bd-26031eb24038 dotted_order:20250804T045749762085Z2890c3d0-b60c-430d-90bd-26031eb24038.20250804T045748171793Z62fc783e-58a4-4eb7-9437-9cff7a25ea63.20250804T045748174899Z8a0341a8-46fc-465a-8bfd-70c6914852d7.20250804T045748177426Z352e41a6-40e0-41fe-967b-085c19773322.20250804T045749028555Zaed13739-a81a-4113-835c-20f9e68e6735.20250804T045749040156Z4bff8c78-2d34-46d1-9d43-c2e58cc0c8b5 parent_run_id:aed13739-a81a-4113-835c-20f9e68e6735\"}\\n')\n",
      "Failed to send compressed multipart ingest: langsmith.utils.LangSmithError: Failed to POST https://api.smith.langchain.com/runs/multipart in LangSmith API. HTTPError('400 Client Error: Bad Request for url: https://api.smith.langchain.com/runs/multipart', '{\"error\":\"Bad request: invalid \\'dotted_order\\': dotted_order 62fc783e-58a4-4eb7-9437-9cff7a25ea63 has timestamp 2025-08-04 04:57:48.171793 +0000 UTC earlier than parent timestamp 2025-08-04 04:57:49.762085 +0000 UTC for run_id:4bff8c78-2d34-46d1-9d43-c2e58cc0c8b5 trace_id:2890c3d0-b60c-430d-90bd-26031eb24038 dotted_order:20250804T045749762085Z2890c3d0-b60c-430d-90bd-26031eb24038.20250804T045748171793Z62fc783e-58a4-4eb7-9437-9cff7a25ea63.20250804T045748174899Z8a0341a8-46fc-465a-8bfd-70c6914852d7.20250804T045748177426Z352e41a6-40e0-41fe-967b-085c19773322.20250804T045749028555Zaed13739-a81a-4113-835c-20f9e68e6735.20250804T045749040156Z4bff8c78-2d34-46d1-9d43-c2e58cc0c8b5 parent_run_id:aed13739-a81a-4113-835c-20f9e68e6735\"}\\n')\n",
      "Failed to send compressed multipart ingest: langsmith.utils.LangSmithError: Failed to POST https://api.smith.langchain.com/runs/multipart in LangSmith API. HTTPError('400 Client Error: Bad Request for url: https://api.smith.langchain.com/runs/multipart', '{\"error\":\"Bad request: invalid \\'dotted_order\\': dotted_order 62fc783e-58a4-4eb7-9437-9cff7a25ea63 has timestamp 2025-08-04 04:57:48.171793 +0000 UTC earlier than parent timestamp 2025-08-04 04:57:49.762085 +0000 UTC for run_id:fe015b66-235a-423b-9ac8-d6a20afbb06d trace_id:2890c3d0-b60c-430d-90bd-26031eb24038 dotted_order:20250804T045749762085Z2890c3d0-b60c-430d-90bd-26031eb24038.20250804T045748171793Z62fc783e-58a4-4eb7-9437-9cff7a25ea63.20250804T045748175583Zbb0ef387-68a9-4284-bda1-a3e5e8569570.20250804T045748181862Z8eab3e0f-f911-4510-a0a4-847837575727.20250804T045749041914Z0a88372d-32e5-4e66-b2d1-805aa706f68f.20250804T045749042883Zfe015b66-235a-423b-9ac8-d6a20afbb06d parent_run_id:0a88372d-32e5-4e66-b2d1-805aa706f68f\"}\\n')\n",
      "Failed to send compressed multipart ingest: langsmith.utils.LangSmithError: Failed to POST https://api.smith.langchain.com/runs/multipart in LangSmith API. HTTPError('400 Client Error: Bad Request for url: https://api.smith.langchain.com/runs/multipart', '{\"error\":\"Bad request: invalid \\'dotted_order\\': dotted_order 65a99b24-16a1-4602-af3f-29da3809d26d has timestamp 2025-08-04 04:59:17.98811 +0000 UTC earlier than parent timestamp 2025-08-04 04:59:19.408027 +0000 UTC for run_id:65a99b24-16a1-4602-af3f-29da3809d26d trace_id:5e9fea3a-72d5-4aac-a66d-461b42e82cf9 dotted_order:20250804T045916222009Z5e9fea3a-72d5-4aac-a66d-461b42e82cf9.20250804T045919408027Z869566bc-2da4-41a7-9dd2-341ad708aef9.20250804T045917988110Z65a99b24-16a1-4602-af3f-29da3809d26d parent_run_id:869566bc-2da4-41a7-9dd2-341ad708aef9\"}\\n')\n",
      "Failed to send compressed multipart ingest: langsmith.utils.LangSmithError: Failed to POST https://api.smith.langchain.com/runs/multipart in LangSmith API. HTTPError('400 Client Error: Bad Request for url: https://api.smith.langchain.com/runs/multipart', '{\"error\":\"Bad request: invalid \\'dotted_order\\': dotted_order 9c63104c-3fd3-42dc-aa92-99a009175c1d has timestamp 2025-08-04 04:59:48.41513 +0000 UTC earlier than parent timestamp 2025-08-04 04:59:49.984325 +0000 UTC for run_id:9118336c-8b8a-4a2a-8e06-26733f0991cd trace_id:20b3067c-2caf-4de8-b2b8-5a56e24c1b63 dotted_order:20250804T045949984325Z20b3067c-2caf-4de8-b2b8-5a56e24c1b63.20250804T045948415130Z9c63104c-3fd3-42dc-aa92-99a009175c1d.20250804T045948416953Z9118336c-8b8a-4a2a-8e06-26733f0991cd parent_run_id:9c63104c-3fd3-42dc-aa92-99a009175c1d\"}\\n')\n",
      "Failed to send compressed multipart ingest: langsmith.utils.LangSmithError: Failed to POST https://api.smith.langchain.com/runs/multipart in LangSmith API. HTTPError('400 Client Error: Bad Request for url: https://api.smith.langchain.com/runs/multipart', '{\"error\":\"Bad request: invalid \\'dotted_order\\': dotted_order 9c63104c-3fd3-42dc-aa92-99a009175c1d has timestamp 2025-08-04 04:59:48.41513 +0000 UTC earlier than parent timestamp 2025-08-04 04:59:49.984325 +0000 UTC for run_id:9c63104c-3fd3-42dc-aa92-99a009175c1d trace_id:20b3067c-2caf-4de8-b2b8-5a56e24c1b63 dotted_order:20250804T045949984325Z20b3067c-2caf-4de8-b2b8-5a56e24c1b63.20250804T045948415130Z9c63104c-3fd3-42dc-aa92-99a009175c1d parent_run_id:20b3067c-2caf-4de8-b2b8-5a56e24c1b63\"}\\n')\n",
      "Failed to send compressed multipart ingest: langsmith.utils.LangSmithError: Failed to POST https://api.smith.langchain.com/runs/multipart in LangSmith API. HTTPError('400 Client Error: Bad Request for url: https://api.smith.langchain.com/runs/multipart', '{\"error\":\"Bad request: invalid \\'dotted_order\\': dotted_order 625a9a9b-29ba-4e25-9e4a-e4732f377aee has timestamp 2025-08-04 05:05:47.405086 +0000 UTC earlier than parent timestamp 2025-08-04 05:05:48.704803 +0000 UTC for run_id:625a9a9b-29ba-4e25-9e4a-e4732f377aee trace_id:2b3f40ae-7773-4b94-859b-ca4b10f4b1a6 dotted_order:20250804T050546515945Z2b3f40ae-7773-4b94-859b-ca4b10f4b1a6.20250804T050548704803Z8556e014-b06f-4a7c-a1bf-5cd523f26cf3.20250804T050547405086Z625a9a9b-29ba-4e25-9e4a-e4732f377aee parent_run_id:8556e014-b06f-4a7c-a1bf-5cd523f26cf3\"}\\n')\n",
      "Failed to send compressed multipart ingest: langsmith.utils.LangSmithError: Failed to POST https://api.smith.langchain.com/runs/multipart in LangSmith API. HTTPError('400 Client Error: Bad Request for url: https://api.smith.langchain.com/runs/multipart', '{\"error\":\"Bad request: invalid \\'dotted_order\\': dotted_order c9f81109-015d-4880-a672-501d1f817a2c has timestamp 2025-08-04 05:30:44.525565 +0000 UTC earlier than parent timestamp 2025-08-04 05:30:45.604819 +0000 UTC for run_id:c9f81109-015d-4880-a672-501d1f817a2c trace_id:68cbf527-364f-44ac-8052-46d834890700 dotted_order:20250804T053045602325Z68cbf527-364f-44ac-8052-46d834890700.20250804T053045604819Z41928b14-d4bd-46f4-8e9b-561cbe3489a4.20250804T053044525565Zc9f81109-015d-4880-a672-501d1f817a2c parent_run_id:41928b14-d4bd-46f4-8e9b-561cbe3489a4\"}\\n')\n",
      "Failed to send compressed multipart ingest: langsmith.utils.LangSmithError: Failed to POST https://api.smith.langchain.com/runs/multipart in LangSmith API. HTTPError('400 Client Error: Bad Request for url: https://api.smith.langchain.com/runs/multipart', '{\"error\":\"Bad request: invalid \\'dotted_order\\': dotted_order 78e86c1c-a1aa-4309-8120-f198aa44e62e has timestamp 2025-08-04 05:30:44.527349 +0000 UTC earlier than parent timestamp 2025-08-04 05:30:45.602325 +0000 UTC for run_id:78c4a7e0-a1ad-4184-9273-79982b929597 trace_id:68cbf527-364f-44ac-8052-46d834890700 dotted_order:20250804T053045602325Z68cbf527-364f-44ac-8052-46d834890700.20250804T053044527349Z78e86c1c-a1aa-4309-8120-f198aa44e62e.20250804T053044528808Z0de21827-2fcd-4c7b-b908-d80812831bd4.20250804T053044530452Za44ca645-32a9-48e9-8b27-2cabb91ec038.20250804T053045636888Z78c4a7e0-a1ad-4184-9273-79982b929597 parent_run_id:a44ca645-32a9-48e9-8b27-2cabb91ec038\"}\\n')\n",
      "Failed to send compressed multipart ingest: langsmith.utils.LangSmithError: Failed to POST https://api.smith.langchain.com/runs/multipart in LangSmith API. HTTPError('400 Client Error: Bad Request for url: https://api.smith.langchain.com/runs/multipart', '{\"error\":\"Bad request: invalid \\'dotted_order\\': dotted_order 78e86c1c-a1aa-4309-8120-f198aa44e62e has timestamp 2025-08-04 05:30:44.527349 +0000 UTC earlier than parent timestamp 2025-08-04 05:30:45.602325 +0000 UTC for run_id:a0a58f8e-847b-4545-ad7c-fc7dc522f12f trace_id:68cbf527-364f-44ac-8052-46d834890700 dotted_order:20250804T053045602325Z68cbf527-364f-44ac-8052-46d834890700.20250804T053044527349Z78e86c1c-a1aa-4309-8120-f198aa44e62e.20250804T053044528808Z0de21827-2fcd-4c7b-b908-d80812831bd4.20250804T053044530452Za44ca645-32a9-48e9-8b27-2cabb91ec038.20250804T053045636888Z78c4a7e0-a1ad-4184-9273-79982b929597.20250804T053045638525Za0a58f8e-847b-4545-ad7c-fc7dc522f12f parent_run_id:78c4a7e0-a1ad-4184-9273-79982b929597\"}\\n')\n",
      "Failed to send compressed multipart ingest: langsmith.utils.LangSmithError: Failed to POST https://api.smith.langchain.com/runs/multipart in LangSmith API. HTTPError('400 Client Error: Bad Request for url: https://api.smith.langchain.com/runs/multipart', '{\"error\":\"Bad request: invalid \\'dotted_order\\': dotted_order bd32dd1e-2fe7-40dc-843d-b114df113ccf has timestamp 2025-08-04 05:31:14.296789 +0000 UTC earlier than parent timestamp 2025-08-04 05:31:15.090756 +0000 UTC for run_id:845e1627-7928-417b-afe9-a94c1b09afd3 trace_id:977a8b41-29b7-4562-9d2f-44a67a68f9c6 dotted_order:20250804T053115090756Z977a8b41-29b7-4562-9d2f-44a67a68f9c6.20250804T053114296789Zbd32dd1e-2fe7-40dc-843d-b114df113ccf.20250804T053114298773Z845e1627-7928-417b-afe9-a94c1b09afd3 parent_run_id:bd32dd1e-2fe7-40dc-843d-b114df113ccf\"}\\n')\n",
      "Failed to send compressed multipart ingest: langsmith.utils.LangSmithError: Failed to POST https://api.smith.langchain.com/runs/multipart in LangSmith API. HTTPError('400 Client Error: Bad Request for url: https://api.smith.langchain.com/runs/multipart', '{\"error\":\"Bad request: invalid \\'dotted_order\\': dotted_order bd32dd1e-2fe7-40dc-843d-b114df113ccf has timestamp 2025-08-04 05:31:14.296789 +0000 UTC earlier than parent timestamp 2025-08-04 05:31:15.090756 +0000 UTC for run_id:978933ba-056c-435f-a7f2-c840335efd8d trace_id:977a8b41-29b7-4562-9d2f-44a67a68f9c6 dotted_order:20250804T053115090756Z977a8b41-29b7-4562-9d2f-44a67a68f9c6.20250804T053114296789Zbd32dd1e-2fe7-40dc-843d-b114df113ccf.20250804T053114298773Z845e1627-7928-417b-afe9-a94c1b09afd3.20250804T053114300226Z1bf014a4-eddf-4440-8845-1e0cd5258b80.20250804T053116391169Z978933ba-056c-435f-a7f2-c840335efd8d parent_run_id:1bf014a4-eddf-4440-8845-1e0cd5258b80\"}\\n')\n",
      "Failed to send compressed multipart ingest: langsmith.utils.LangSmithError: Failed to POST https://api.smith.langchain.com/runs/multipart in LangSmith API. HTTPError('400 Client Error: Bad Request for url: https://api.smith.langchain.com/runs/multipart', '{\"error\":\"Bad request: invalid \\'dotted_order\\': dotted_order bd32dd1e-2fe7-40dc-843d-b114df113ccf has timestamp 2025-08-04 05:31:14.296789 +0000 UTC earlier than parent timestamp 2025-08-04 05:31:15.090756 +0000 UTC for run_id:1bf014a4-eddf-4440-8845-1e0cd5258b80 trace_id:977a8b41-29b7-4562-9d2f-44a67a68f9c6 dotted_order:20250804T053115090756Z977a8b41-29b7-4562-9d2f-44a67a68f9c6.20250804T053114296789Zbd32dd1e-2fe7-40dc-843d-b114df113ccf.20250804T053114298773Z845e1627-7928-417b-afe9-a94c1b09afd3.20250804T053114300226Z1bf014a4-eddf-4440-8845-1e0cd5258b80 parent_run_id:845e1627-7928-417b-afe9-a94c1b09afd3\"}\\n')\n",
      "Failed to send compressed multipart ingest: langsmith.utils.LangSmithError: Failed to POST https://api.smith.langchain.com/runs/multipart in LangSmith API. HTTPError('400 Client Error: Bad Request for url: https://api.smith.langchain.com/runs/multipart', '{\"error\":\"Bad request: invalid \\'dotted_order\\': dotted_order 01309be9-b06f-44c4-8165-c8b73acc28cb has timestamp 2025-08-04 05:31:44.06652 +0000 UTC earlier than parent timestamp 2025-08-04 05:31:45.575065 +0000 UTC for run_id:18b45d43-6742-49f5-bd37-73c39d1b9f8b trace_id:0d1f678c-f6a9-42a3-b20e-e671391ef310 dotted_order:20250804T053145575065Z0d1f678c-f6a9-42a3-b20e-e671391ef310.20250804T053144066520Z01309be9-b06f-44c4-8165-c8b73acc28cb.20250804T053144067938Z0dd1531d-aeb7-413e-a63b-6429b2fcc278.20250804T053144069154Ze4626ba9-4544-482b-974b-75f72d8480de.20250804T053144070305Z5afb35b1-2ff1-4705-b5e7-a95a365349ae.20250804T053144103470Z18b45d43-6742-49f5-bd37-73c39d1b9f8b parent_run_id:5afb35b1-2ff1-4705-b5e7-a95a365349ae\"}\\n')\n",
      "Failed to send compressed multipart ingest: langsmith.utils.LangSmithError: Failed to POST https://api.smith.langchain.com/runs/multipart in LangSmith API. HTTPError('400 Client Error: Bad Request for url: https://api.smith.langchain.com/runs/multipart', '{\"error\":\"Bad request: invalid \\'dotted_order\\': dotted_order 01309be9-b06f-44c4-8165-c8b73acc28cb has timestamp 2025-08-04 05:31:44.06652 +0000 UTC earlier than parent timestamp 2025-08-04 05:31:45.575065 +0000 UTC for run_id:de3bfa87-a1c5-4263-aba7-7e9163024266 trace_id:0d1f678c-f6a9-42a3-b20e-e671391ef310 dotted_order:20250804T053145575065Z0d1f678c-f6a9-42a3-b20e-e671391ef310.20250804T053144066520Z01309be9-b06f-44c4-8165-c8b73acc28cb.20250804T053144067938Z0dd1531d-aeb7-413e-a63b-6429b2fcc278.20250804T053144069154Ze4626ba9-4544-482b-974b-75f72d8480de.20250804T053144070305Z5afb35b1-2ff1-4705-b5e7-a95a365349ae.20250804T053144103470Z18b45d43-6742-49f5-bd37-73c39d1b9f8b.20250804T053144104399Zde3bfa87-a1c5-4263-aba7-7e9163024266 parent_run_id:18b45d43-6742-49f5-bd37-73c39d1b9f8b\"}\\n')\n",
      "Failed to send compressed multipart ingest: langsmith.utils.LangSmithError: Failed to POST https://api.smith.langchain.com/runs/multipart in LangSmith API. HTTPError('400 Client Error: Bad Request for url: https://api.smith.langchain.com/runs/multipart', '{\"error\":\"Bad request: invalid \\'dotted_order\\': dotted_order 01309be9-b06f-44c4-8165-c8b73acc28cb has timestamp 2025-08-04 05:31:44.06652 +0000 UTC earlier than parent timestamp 2025-08-04 05:31:45.575065 +0000 UTC for run_id:4476d57b-a787-4a32-8fad-d8776eda3e32 trace_id:0d1f678c-f6a9-42a3-b20e-e671391ef310 dotted_order:20250804T053145575065Z0d1f678c-f6a9-42a3-b20e-e671391ef310.20250804T053144066520Z01309be9-b06f-44c4-8165-c8b73acc28cb.20250804T053144067938Z0dd1531d-aeb7-413e-a63b-6429b2fcc278.20250804T053144069154Ze4626ba9-4544-482b-974b-75f72d8480de.20250804T053145768664Z4476d57b-a787-4a32-8fad-d8776eda3e32 parent_run_id:e4626ba9-4544-482b-974b-75f72d8480de\"}\\n')\n",
      "Failed to send compressed multipart ingest: langsmith.utils.LangSmithError: Failed to POST https://api.smith.langchain.com/runs/multipart in LangSmith API. HTTPError('400 Client Error: Bad Request for url: https://api.smith.langchain.com/runs/multipart', '{\"error\":\"Bad request: invalid \\'dotted_order\\': dotted_order 01309be9-b06f-44c4-8165-c8b73acc28cb has timestamp 2025-08-04 05:31:44.06652 +0000 UTC earlier than parent timestamp 2025-08-04 05:31:45.575065 +0000 UTC for run_id:33ad872b-7639-4117-9052-a3eee0f94a5b trace_id:0d1f678c-f6a9-42a3-b20e-e671391ef310 dotted_order:20250804T053145575065Z0d1f678c-f6a9-42a3-b20e-e671391ef310.20250804T053144066520Z01309be9-b06f-44c4-8165-c8b73acc28cb.20250804T053144067938Z0dd1531d-aeb7-413e-a63b-6429b2fcc278.20250804T053144069154Ze4626ba9-4544-482b-974b-75f72d8480de.20250804T053145768664Z4476d57b-a787-4a32-8fad-d8776eda3e32.20250804T053145769713Z33ad872b-7639-4117-9052-a3eee0f94a5b parent_run_id:4476d57b-a787-4a32-8fad-d8776eda3e32\"}\\n')\n",
      "Failed to send compressed multipart ingest: langsmith.utils.LangSmithError: Failed to POST https://api.smith.langchain.com/runs/multipart in LangSmith API. HTTPError('400 Client Error: Bad Request for url: https://api.smith.langchain.com/runs/multipart', '{\"error\":\"Bad request: invalid \\'dotted_order\\': dotted_order 01309be9-b06f-44c4-8165-c8b73acc28cb has timestamp 2025-08-04 05:31:44.06652 +0000 UTC earlier than parent timestamp 2025-08-04 05:31:45.575065 +0000 UTC for run_id:0dd1531d-aeb7-413e-a63b-6429b2fcc278 trace_id:0d1f678c-f6a9-42a3-b20e-e671391ef310 dotted_order:20250804T053145575065Z0d1f678c-f6a9-42a3-b20e-e671391ef310.20250804T053144066520Z01309be9-b06f-44c4-8165-c8b73acc28cb.20250804T053144067938Z0dd1531d-aeb7-413e-a63b-6429b2fcc278 parent_run_id:01309be9-b06f-44c4-8165-c8b73acc28cb\"}\\n')\n",
      "Failed to send compressed multipart ingest: langsmith.utils.LangSmithError: Failed to POST https://api.smith.langchain.com/runs/multipart in LangSmith API. HTTPError('400 Client Error: Bad Request for url: https://api.smith.langchain.com/runs/multipart', '{\"error\":\"Bad request: invalid \\'dotted_order\\': dotted_order 18c76cf0-2857-4f88-98c5-412bb1048a93 has timestamp 2025-08-04 05:32:13.944549 +0000 UTC earlier than parent timestamp 2025-08-04 05:32:14.575513 +0000 UTC for run_id:18c76cf0-2857-4f88-98c5-412bb1048a93 trace_id:c042d88c-15ec-4825-904b-c5716bb05c17 dotted_order:20250804T053213544384Zc042d88c-15ec-4825-904b-c5716bb05c17.20250804T053214572200Zeb08cdea-3a97-46ca-bacc-c43a6e07744b.20250804T053214573831Z875a7e9f-8c57-4139-ba05-54e02cd99cc0.20250804T053214575513Z7f281211-df98-4625-bc47-84edf31dd47f.20250804T053213944549Z18c76cf0-2857-4f88-98c5-412bb1048a93 parent_run_id:7f281211-df98-4625-bc47-84edf31dd47f\"}\\n')\n",
      "Failed to send compressed multipart ingest: langsmith.utils.LangSmithError: Failed to POST https://api.smith.langchain.com/runs/multipart in LangSmith API. HTTPError('400 Client Error: Bad Request for url: https://api.smith.langchain.com/runs/multipart', '{\"error\":\"Bad request: invalid \\'dotted_order\\': dotted_order 18c76cf0-2857-4f88-98c5-412bb1048a93 has timestamp 2025-08-04 05:32:13.944549 +0000 UTC earlier than parent timestamp 2025-08-04 05:32:14.575513 +0000 UTC for run_id:8bd3e018-b54a-4901-aa77-23760897fe91 trace_id:c042d88c-15ec-4825-904b-c5716bb05c17 dotted_order:20250804T053213544384Zc042d88c-15ec-4825-904b-c5716bb05c17.20250804T053214572200Zeb08cdea-3a97-46ca-bacc-c43a6e07744b.20250804T053214573831Z875a7e9f-8c57-4139-ba05-54e02cd99cc0.20250804T053214575513Z7f281211-df98-4625-bc47-84edf31dd47f.20250804T053213944549Z18c76cf0-2857-4f88-98c5-412bb1048a93.20250804T053213946399Z8bd3e018-b54a-4901-aa77-23760897fe91 parent_run_id:18c76cf0-2857-4f88-98c5-412bb1048a93\"}\\n')\n"
     ]
    }
   ],
   "source": [
    "response = rag_graph.invoke({\"question\": \"what is financial Analysis?\"})"
   ]
  },
  {
   "cell_type": "code",
   "execution_count": 29,
   "id": "e786f693",
   "metadata": {},
   "outputs": [
    {
     "data": {
      "text/plain": [
       "\"Financial analysis involves evaluating the performance of a full portfolio or its individual components. It typically includes two main aspects: measuring returns (either pre-tax or after-tax) and assessing those returns to understand the investment's effectiveness. The analysis may also involve benchmarking and comparing performance across different investment strategies or portfolios to determine relative success.\""
      ]
     },
     "execution_count": 29,
     "metadata": {},
     "output_type": "execute_result"
    }
   ],
   "source": [
    "response[\"response\"]"
   ]
  },
  {
   "cell_type": "markdown",
   "id": "021c0336",
   "metadata": {},
   "source": [
    "Tool Belt"
   ]
  },
  {
   "cell_type": "code",
   "execution_count": 30,
   "id": "4058fa72",
   "metadata": {},
   "outputs": [],
   "source": [
    "\n",
    "from langchain_core.tools import tool\n",
    "\n",
    "@tool\n",
    "def ai_rag_tool(question: str) -> str:\n",
    "    \"\"\"\n",
    "    Use this tool to get information from the knowledge base.\n",
    "    \"\"\"\n",
    "    response = rag_graph.invoke({\"question\": question})\n",
    "    return {\n",
    "        \"messages\": [HumanMessage(content=response[\"response\"])],\n",
    "        \"context\": response[\"context\"]\n",
    "    }\n",
    "\n"
   ]
  },
  {
   "cell_type": "code",
   "execution_count": 31,
   "id": "8a1cc5e0",
   "metadata": {},
   "outputs": [],
   "source": [
    "tool_belt = [\n",
    "    tavily_tool,\n",
    "    arxiv_tool,\n",
    "    yfinance_tool,\n",
    "    ai_rag_tool\n",
    "]"
   ]
  },
  {
   "cell_type": "code",
   "execution_count": 53,
   "id": "6e0367b0",
   "metadata": {},
   "outputs": [],
   "source": [
    "from langchain_openai import ChatOpenAI\n",
    "\n",
    "model = ChatOpenAI(model=\"gpt-4.1-nano\", temperature=0)\n"
   ]
  },
  {
   "cell_type": "code",
   "execution_count": 54,
   "id": "97621604",
   "metadata": {},
   "outputs": [],
   "source": [
    "model = model.bind_tools(tool_belt)"
   ]
  },
  {
   "cell_type": "markdown",
   "id": "70c1294e",
   "metadata": {},
   "source": [
    "Langgraph Agent"
   ]
  },
  {
   "cell_type": "code",
   "execution_count": 55,
   "id": "dbb77838",
   "metadata": {},
   "outputs": [],
   "source": [
    "from typing import TypedDict, Annotated\n",
    "from langgraph.graph.message import add_messages\n",
    "import operator\n",
    "from langchain_core.messages import BaseMessage, HumanMessage\n",
    "from langchain_core.documents import Document\n",
    "\n",
    "\n",
    "class AgentState(TypedDict):\n",
    "  messages: Annotated[list, add_messages]\n",
    "  context: list[Document]"
   ]
  },
  {
   "cell_type": "code",
   "execution_count": 56,
   "id": "f89be9d7",
   "metadata": {},
   "outputs": [],
   "source": [
    "from langgraph.prebuilt import ToolNode\n",
    "\n",
    "def call_model(state):\n",
    "  messages = state[\"messages\"]\n",
    "  response = model.invoke(messages)\n",
    "  return {\n",
    "    \"messages\" : [response],\n",
    "    \"context\": state.get(\"context\", [])\n",
    "  }\n",
    "\n",
    "tool_node = ToolNode(tool_belt)"
   ]
  },
  {
   "cell_type": "code",
   "execution_count": 57,
   "id": "fe4fc146",
   "metadata": {},
   "outputs": [
    {
     "data": {
      "text/plain": [
       "<langgraph.graph.state.StateGraph at 0x7fb139a4fc50>"
      ]
     },
     "execution_count": 57,
     "metadata": {},
     "output_type": "execute_result"
    }
   ],
   "source": [
    "from langgraph.graph import StateGraph, END\n",
    "\n",
    "uncompiled_graph = StateGraph(AgentState)\n",
    "\n",
    "uncompiled_graph.add_node(\"agent\", call_model)\n",
    "uncompiled_graph.add_node(\"action\", tool_node)"
   ]
  },
  {
   "cell_type": "code",
   "execution_count": 58,
   "id": "32e640f5",
   "metadata": {},
   "outputs": [
    {
     "data": {
      "text/plain": [
       "<langgraph.graph.state.StateGraph at 0x7fb139a4fc50>"
      ]
     },
     "execution_count": 58,
     "metadata": {},
     "output_type": "execute_result"
    }
   ],
   "source": [
    "uncompiled_graph.set_entry_point(\"agent\")"
   ]
  },
  {
   "cell_type": "code",
   "execution_count": 59,
   "id": "ac42cb8c",
   "metadata": {},
   "outputs": [
    {
     "data": {
      "text/plain": [
       "<langgraph.graph.state.StateGraph at 0x7fb139a4fc50>"
      ]
     },
     "execution_count": 59,
     "metadata": {},
     "output_type": "execute_result"
    }
   ],
   "source": [
    "def should_continue(state):\n",
    "  last_message = state[\"messages\"][-1]\n",
    "\n",
    "  if last_message.tool_calls:\n",
    "    return \"action\"\n",
    "\n",
    "  return END\n",
    "\n",
    "uncompiled_graph.add_conditional_edges(\n",
    "    \"agent\",\n",
    "    should_continue\n",
    ")\n"
   ]
  },
  {
   "cell_type": "code",
   "execution_count": 60,
   "id": "147a131f",
   "metadata": {},
   "outputs": [
    {
     "data": {
      "text/plain": [
       "<langgraph.graph.state.StateGraph at 0x7fb139a4fc50>"
      ]
     },
     "execution_count": 60,
     "metadata": {},
     "output_type": "execute_result"
    }
   ],
   "source": [
    "uncompiled_graph.add_edge(\"action\", \"agent\")"
   ]
  },
  {
   "cell_type": "code",
   "execution_count": 61,
   "id": "78bcee68",
   "metadata": {},
   "outputs": [],
   "source": [
    "complied_graph = uncompiled_graph.compile()"
   ]
  },
  {
   "cell_type": "code",
   "execution_count": 62,
   "id": "d54dc3fa",
   "metadata": {},
   "outputs": [
    {
     "name": "stdout",
     "output_type": "stream",
     "text": [
      "Receiving update from node: 'agent'\n",
      "[AIMessage(content=\"Financial analysis is the process of evaluating a company's financial data to understand its financial health, performance, and stability. It involves examining financial statements such as the balance sheet, income statement, and cash flow statement to assess profitability, liquidity, solvency, and operational efficiency. Financial analysis helps stakeholders, including management, investors, creditors, and analysts, make informed decisions regarding investments, lending, and strategic planning. Techniques used in financial analysis include ratio analysis, trend analysis, and comparative analysis.\", additional_kwargs={'refusal': None}, response_metadata={'token_usage': {'completion_tokens': 97, 'prompt_tokens': 242, 'total_tokens': 339, 'completion_tokens_details': {'accepted_prediction_tokens': 0, 'audio_tokens': 0, 'reasoning_tokens': 0, 'rejected_prediction_tokens': 0}, 'prompt_tokens_details': {'audio_tokens': 0, 'cached_tokens': 0}}, 'model_name': 'gpt-4.1-nano-2025-04-14', 'system_fingerprint': 'fp_38343a2f8f', 'id': 'chatcmpl-C0gokuIXpcu5PvgxmdfA2zcpIHOhe', 'service_tier': 'default', 'finish_reason': 'stop', 'logprobs': None}, id='run--47abdcbd-0c0e-4d6e-b911-08bc74a311a1-0', usage_metadata={'input_tokens': 242, 'output_tokens': 97, 'total_tokens': 339, 'input_token_details': {'audio': 0, 'cache_read': 0}, 'output_token_details': {'audio': 0, 'reasoning': 0}})]\n",
      "\n",
      "\n",
      "\n"
     ]
    }
   ],
   "source": [
    "from langchain_core.messages import HumanMessage\n",
    "\n",
    "inputs = {\"messages\" : [HumanMessage(content=\"What is financial Analysis?\")]}\n",
    "\n",
    "async for chunk in complied_graph.astream(inputs, stream_mode=\"updates\"):\n",
    "    for node, values in chunk.items():\n",
    "        print(f\"Receiving update from node: '{node}'\")\n",
    "        print(values[\"messages\"])\n",
    "        print(\"\\n\\n\")\n"
   ]
  },
  {
   "cell_type": "code",
   "execution_count": 63,
   "id": "1e310267",
   "metadata": {},
   "outputs": [
    {
     "name": "stdout",
     "output_type": "stream",
     "text": [
      "Receiving update from node: 'agent'\n",
      "[AIMessage(content='', additional_kwargs={'tool_calls': [{'id': 'call_YNQdefjaZWGhOPJCKz3RmC4P', 'function': {'arguments': '{\"query\": \"QLoRA\"}', 'name': 'arxiv'}, 'type': 'function'}, {'id': 'call_puEINcVFi0aoItZJco2Wzja5', 'function': {'arguments': '{\"query\": \"latest Tweet of the author of QLoRA\"}', 'name': 'tavily_search_results_json'}, 'type': 'function'}], 'refusal': None}, response_metadata={'token_usage': {'completion_tokens': 58, 'prompt_tokens': 263, 'total_tokens': 321, 'completion_tokens_details': {'accepted_prediction_tokens': 0, 'audio_tokens': 0, 'reasoning_tokens': 0, 'rejected_prediction_tokens': 0}, 'prompt_tokens_details': {'audio_tokens': 0, 'cached_tokens': 0}}, 'model_name': 'gpt-4.1-nano-2025-04-14', 'system_fingerprint': 'fp_38343a2f8f', 'id': 'chatcmpl-C0gp1XlSWc8zNmjz4oIp8Um58UbsQ', 'service_tier': 'default', 'finish_reason': 'tool_calls', 'logprobs': None}, id='run--9a40cf7d-8a75-44f4-8e63-e08893a2adb9-0', tool_calls=[{'name': 'arxiv', 'args': {'query': 'QLoRA'}, 'id': 'call_YNQdefjaZWGhOPJCKz3RmC4P', 'type': 'tool_call'}, {'name': 'tavily_search_results_json', 'args': {'query': 'latest Tweet of the author of QLoRA'}, 'id': 'call_puEINcVFi0aoItZJco2Wzja5', 'type': 'tool_call'}], usage_metadata={'input_tokens': 263, 'output_tokens': 58, 'total_tokens': 321, 'input_token_details': {'audio': 0, 'cache_read': 0}, 'output_token_details': {'audio': 0, 'reasoning': 0}})]\n",
      "\n",
      "\n",
      "\n",
      "Receiving update from node: 'action'\n",
      "Tool Used: arxiv\n",
      "[ToolMessage(content='Published: 2023-05-23\\nTitle: QLoRA: Efficient Finetuning of Quantized LLMs\\nAuthors: Tim Dettmers, Artidoro Pagnoni, Ari Holtzman, Luke Zettlemoyer\\nSummary: We present QLoRA, an efficient finetuning approach that reduces memory usage\\nenough to finetune a 65B parameter model on a single 48GB GPU while preserving\\nfull 16-bit finetuning task performance. QLoRA backpropagates gradients through\\na frozen, 4-bit quantized pretrained language model into Low Rank\\nAdapters~(LoRA). Our best model family, which we name Guanaco, outperforms all\\nprevious openly released models on the Vicuna benchmark, reaching 99.3% of the\\nperformance level of ChatGPT while only requiring 24 hours of finetuning on a\\nsingle GPU. QLoRA introduces a number of innovations to save memory without\\nsacrificing performance: (a) 4-bit NormalFloat (NF4), a new data type that is\\ninformation theoretically optimal for normally distributed weights (b) double\\nquantization to reduce the average memory footprint by quantizing the\\nquantization constants, and (c) paged optimziers to manage memory spikes. We\\nuse QLoRA to finetune more than 1,000 models, providing a detailed analysis of\\ninstruction following and chatbot performance across 8 instruction datasets,\\nmultiple model types (LLaMA, T5), and model scales that would be infeasible to\\nrun with regular finetuning (e.g. 33B and 65B parameter models). Our results\\nshow that QLoRA finetuning on a small high-quality dataset leads to\\nstate-of-the-art results, even when using smaller models than the previous\\nSoTA. We provide a detailed analysis of chatbot performance based on both human\\nand GPT-4 evaluations showing that GPT-4 evaluations are a cheap and reasonable\\nalternative to human evaluation. Furthermore, we find that current chatbot\\nbenchmarks are not trustworthy to accurately evaluate the performance levels of\\nchatbots. A lemon-picked analysis demonstrates where Guanaco fails compared to\\nChatGPT. We release all of our models and code, including CUDA kernels for\\n4-bit training.\\n\\nPublished: 2024-05-27\\nTitle: Accurate LoRA-Finetuning Quantization of LLMs via Information Retention\\nAuthors: Haotong Qin, Xudong Ma, Xingyu Zheng, Xiaoyang Li, Yang Zhang, Shouda Liu, Jie Luo, Xianglong Liu, Michele Magno\\nSummary: The LoRA-finetuning quantization of LLMs has been extensively studied to\\nobtain accurate yet compact LLMs for deployment on resource-constrained\\nhardware. However, existing methods cause the quantized LLM to severely degrade\\nand even fail to benefit from the finetuning of LoRA. This paper proposes a\\nnovel IR-QLoRA for pushing quantized LLMs with LoRA to be highly accurate\\nthrough information retention. The proposed IR-QLoRA mainly relies on two\\ntechnologies derived from the perspective of unified information: (1)\\nstatistics-based Information Calibration Quantization allows the quantized\\nparameters of LLM to retain original information accurately; (2)\\nfinetuning-based Information Elastic Connection makes LoRA utilizes elastic\\nrepresentation transformation with diverse information. Comprehensive\\nexperiments show that IR-QLoRA can significantly improve accuracy across LLaMA\\nand LLaMA2 families under 2-4 bit-widths, e.g., 4- bit LLaMA-7B achieves 1.4%\\nimprovement on MMLU compared with the state-of-the-art methods. The significant\\nperformance gain requires only a tiny 0.31% additional time consumption,\\nrevealing the satisfactory efficiency of our IR-QLoRA. We highlight that\\nIR-QLoRA enjoys excellent versatility, compatible with various frameworks\\n(e.g., NormalFloat and Integer quantization) and brings general accuracy gains.\\nThe code is available at https://github.com/htqin/ir-qlora.\\n\\nPublished: 2025-02-05\\nTitle: Resource-Efficient & Effective Code Summarization\\nAuthors: Saima Afrin, Joseph Call, Khai-Nguyen Nguyen, Oscar Chaparro, Antonio Mastropaolo\\nSummary: Code Language Models (CLMs) have demonstrated high effectiveness in\\nautomating software engineering tasks such as bug fixing, code generation, and\\ncode documentation. This ', name='arxiv', id='7f74d2ec-f572-4d0f-8a83-27ad37f9815d', tool_call_id='call_YNQdefjaZWGhOPJCKz3RmC4P'), ToolMessage(content='[{\"title\": \"chansung on X: \\\\\"Thanks to @Tim_Dettmers and the authors of ...\", \"url\": \"https://twitter.com/algo_diver/status/1661984515173269504\", \"content\": \"Thanks to @Tim_Dettmers and the authors of QLoRA, I have added Guanaco(7B, 13B) in my Model Zoo project (aka LLM As Chatbot) without pain.\", \"score\": 0.57293844}, {\"title\": \"QLoRA 4-bit quantization #1595 - ggml-org llama.cpp - GitHub\", \"url\": \"https://github.com/ggerganov/llama.cpp/discussions/1595\", \"content\": \"There was an error while loading. Please reload this page.\\\\n\\\\nThere was an error while loading. Please reload this page.\\\\n\\\\n# {{title}}\\\\n\\\\n### Uh oh!\\\\n\\\\nThere was an error while loading. Please reload this page.\\\\n\\\\nThere was an error while loading. Please reload this page.\\\\n\\\\n#### unbounded May 26, 2023 Author\\\\n\\\\n- [...] The author actually acknowledged that GPTQ quantization is superior to NF4: \\\\n\\\\nBeta\\\\nWas this translation helpful?\\\\nGive feedback.\\\\n\\\\n### Uh oh!\\\\n\\\\nThere was an error while loading. Please reload this page.\\\\n\\\\nThere was an error while loading. Please reload this page.\\\\n\\\\n# {{title}}\\\\n\\\\n### Uh oh!\\\\n\\\\nThere was an error while loading. Please reload this page.\\\\n\\\\nThere was an error while loading. Please reload this page.\\\\n\\\\n### ikawrakow May 26, 2023\\\\n\\\\n- [...] There was an error while loading. Please reload this page.\\\\n\\\\nThere was an error while loading. Please reload this page.\\\\n\\\\n### Uh oh!\\\\n\\\\nThere was an error while loading. Please reload this page.\\\\n\\\\nThere was an error while loading. Please reload this page.\\\\n\\\\n# {{editor}}\\'s edit\\\\n\\\\n# {{editor}}\\'s edit\\\\n\\\\n### Uh oh!\\\\n\\\\nThere was an error while loading. Please reload this page.\\\\n\\\\nThere was an error while loading. Please reload this page.\\\\n\\\\n### ikawrakow May 27, 2023\\\\n\\\\nikawrakow\\\\n\\\\n-\", \"score\": 0.5100334}, {\"title\": \"Moritz Laurer on X: \\\\\"QLoRa: a new technique for fine-tuning very ...\", \"url\": \"https://twitter.com/MoritzLaurer/status/1661618750548746241\", \"content\": \"QLoRa: a new technique for fine-tuning very large LLMs on a single Colab GPU in your browser. Paper released 2 days ago, repo already has\", \"score\": 0.37394494}, {\"title\": \"QLoRA - LLM Directory\", \"url\": \"https://llmmodels.org/tools/qlora/\", \"content\": \"Include this into your message:  \\\\n- gpt url  \\\\n- the boost type you wanna do and its price  \\\\n- when you want it  \\\\n  \\\\n\\\\nEmoji\\\\n\\\\n## Thanks\\\\n\\\\nOur team will contact you soon!\\\\n\\\\nOur team will contact you soon!\\\\n\\\\n## Thanks\\\\n\\\\nApproximately, we add new tools within three months.\\\\n\\\\nWe will publish it with a no-follow link.\\\\n\\\\nHowever, you can publish your tool immediately and get a forever do-follow link.\\\\n\\\\nGet it now for $49.\\\\n\\\\nApproximately, we add new tools within three months. [...] We will publish it with a no-follow link.\\\\n\\\\nHowever, you can publish your tool immediately and get a forever do-follow link.\\\\n\\\\nGet it now for $49.\\\\n\\\\n## Done!\\\\n\\\\nThank you for joining us. See you later!\\\\n\\\\nThank you for joining us. See you later!\\\\n\\\\nUnion\\\\n\\\\n### Mars Verse\\\\n\\\\n### \\\\\\\\_\\\\n\\\\n### -\\\\n\\\\ntwitter icon\\\\nUnicorn Platform logo [...] ## Monthly Email With New LLMs\\\\n\\\\nSign up for our monthly emails and stay updated with the latest additions to the Large Language Models directory. No spam, just fresh updates.\\\\n\\\\nDiscover new LLMs in the most comprehensive list available.\\\\n\\\\nEmoji\\\\n\\\\n## Please contact @johnrushx\\\\n\\\\nInclude this into your message:  \\\\n- gpt url  \\\\n- the boost type you wanna do and its price  \\\\n- when you want it\", \"score\": 0.2679057}, {\"title\": \"Jeremy Howard on X: \\\\\"Lots of interesting details on using fsdp with ...\", \"url\": \"https://twitter.com/jeremyphoward/status/1768343044510908616\", \"content\": \"We published our technical deep dive into FSDP+QLoRA, a technique which enables training 70B models on dual consumer GPUs.\", \"score\": 0.17490332}]', name='tavily_search_results_json', id='f8c0a7d3-89f8-4a92-9ae6-4c14f21d56a2', tool_call_id='call_puEINcVFi0aoItZJco2Wzja5', artifact={'query': 'latest Tweet of the author of QLoRA', 'follow_up_questions': None, 'answer': None, 'images': [], 'results': [{'url': 'https://twitter.com/algo_diver/status/1661984515173269504', 'title': 'chansung on X: \"Thanks to @Tim_Dettmers and the authors of ...', 'content': 'Thanks to @Tim_Dettmers and the authors of QLoRA, I have added Guanaco(7B, 13B) in my Model Zoo project (aka LLM As Chatbot) without pain.', 'score': 0.57293844, 'raw_content': None}, {'url': 'https://github.com/ggerganov/llama.cpp/discussions/1595', 'title': 'QLoRA 4-bit quantization #1595 - ggml-org llama.cpp - GitHub', 'content': \"There was an error while loading. Please reload this page.\\n\\nThere was an error while loading. Please reload this page.\\n\\n# {{title}}\\n\\n### Uh oh!\\n\\nThere was an error while loading. Please reload this page.\\n\\nThere was an error while loading. Please reload this page.\\n\\n#### unbounded May 26, 2023 Author\\n\\n- [...] The author actually acknowledged that GPTQ quantization is superior to NF4: \\n\\nBeta\\nWas this translation helpful?\\nGive feedback.\\n\\n### Uh oh!\\n\\nThere was an error while loading. Please reload this page.\\n\\nThere was an error while loading. Please reload this page.\\n\\n# {{title}}\\n\\n### Uh oh!\\n\\nThere was an error while loading. Please reload this page.\\n\\nThere was an error while loading. Please reload this page.\\n\\n### ikawrakow May 26, 2023\\n\\n- [...] There was an error while loading. Please reload this page.\\n\\nThere was an error while loading. Please reload this page.\\n\\n### Uh oh!\\n\\nThere was an error while loading. Please reload this page.\\n\\nThere was an error while loading. Please reload this page.\\n\\n# {{editor}}'s edit\\n\\n# {{editor}}'s edit\\n\\n### Uh oh!\\n\\nThere was an error while loading. Please reload this page.\\n\\nThere was an error while loading. Please reload this page.\\n\\n### ikawrakow May 27, 2023\\n\\nikawrakow\\n\\n-\", 'score': 0.5100334, 'raw_content': None}, {'url': 'https://twitter.com/MoritzLaurer/status/1661618750548746241', 'title': 'Moritz Laurer on X: \"QLoRa: a new technique for fine-tuning very ...', 'content': 'QLoRa: a new technique for fine-tuning very large LLMs on a single Colab GPU in your browser. Paper released 2 days ago, repo already has', 'score': 0.37394494, 'raw_content': None}, {'url': 'https://llmmodels.org/tools/qlora/', 'title': 'QLoRA - LLM Directory', 'content': 'Include this into your message:  \\n- gpt url  \\n- the boost type you wanna do and its price  \\n- when you want it  \\n  \\n\\nEmoji\\n\\n## Thanks\\n\\nOur team will contact you soon!\\n\\nOur team will contact you soon!\\n\\n## Thanks\\n\\nApproximately, we add new tools within three months.\\n\\nWe will publish it with a no-follow link.\\n\\nHowever, you can publish your tool immediately and get a forever do-follow link.\\n\\nGet it now for $49.\\n\\nApproximately, we add new tools within three months. [...] We will publish it with a no-follow link.\\n\\nHowever, you can publish your tool immediately and get a forever do-follow link.\\n\\nGet it now for $49.\\n\\n## Done!\\n\\nThank you for joining us. See you later!\\n\\nThank you for joining us. See you later!\\n\\nUnion\\n\\n### Mars Verse\\n\\n### \\\\_\\n\\n### -\\n\\ntwitter icon\\nUnicorn Platform logo [...] ## Monthly Email With New LLMs\\n\\nSign up for our monthly emails and stay updated with the latest additions to the Large Language Models directory. No spam, just fresh updates.\\n\\nDiscover new LLMs in the most comprehensive list available.\\n\\nEmoji\\n\\n## Please contact @johnrushx\\n\\nInclude this into your message:  \\n- gpt url  \\n- the boost type you wanna do and its price  \\n- when you want it', 'score': 0.2679057, 'raw_content': None}, {'url': 'https://twitter.com/jeremyphoward/status/1768343044510908616', 'title': 'Jeremy Howard on X: \"Lots of interesting details on using fsdp with ...', 'content': 'We published our technical deep dive into FSDP+QLoRA, a technique which enables training 70B models on dual consumer GPUs.', 'score': 0.17490332, 'raw_content': None}], 'response_time': 3.86})]\n",
      "\n",
      "\n",
      "\n",
      "Receiving update from node: 'agent'\n",
      "[AIMessage(content='I found the QLoRA paper on Arxiv titled \"QLoRA: Efficient Finetuning of Quantized LLMs,\" authored by Tim Dettmers, Artidoro Pagnoni, Ari Holtzman, and Luke Zettlemoyer, published on May 23, 2023. \\n\\nRegarding the latest Tweets from the authors:\\n- Tim Dettmers has been mentioned in a Tweet about adding Guanaco models to a Model Zoo project.\\n- Moritz Laurer tweeted about QLoRa as a new technique for fine-tuning very large LLMs on a single Colab GPU.\\n- Jeremy Howard shared a technical deep dive into FSDP+QLoRA for training large models on dual consumer GPUs.\\n\\nWould you like more detailed information on any of these topics?', additional_kwargs={'refusal': None}, response_metadata={'token_usage': {'completion_tokens': 162, 'prompt_tokens': 2348, 'total_tokens': 2510, 'completion_tokens_details': {'accepted_prediction_tokens': 0, 'audio_tokens': 0, 'reasoning_tokens': 0, 'rejected_prediction_tokens': 0}, 'prompt_tokens_details': {'audio_tokens': 0, 'cached_tokens': 0}}, 'model_name': 'gpt-4.1-nano-2025-04-14', 'system_fingerprint': 'fp_38343a2f8f', 'id': 'chatcmpl-C0gp65ECHgwf6qxvD2hoGzcy4Uuna', 'service_tier': 'default', 'finish_reason': 'stop', 'logprobs': None}, id='run--44446b5f-0f67-47fb-a54a-cce21c3bc0ad-0', usage_metadata={'input_tokens': 2348, 'output_tokens': 162, 'total_tokens': 2510, 'input_token_details': {'audio': 0, 'cache_read': 0}, 'output_token_details': {'audio': 0, 'reasoning': 0}})]\n",
      "\n",
      "\n",
      "\n"
     ]
    }
   ],
   "source": [
    "inputs = {\"messages\" : [HumanMessage(content=\"Search Arxiv for the QLoRA paper, then search each of the authors to find out their latest Tweet using Tavily!\")]}\n",
    "\n",
    "async for chunk in complied_graph.astream(inputs, stream_mode=\"updates\"):\n",
    "    for node, values in chunk.items():\n",
    "        print(f\"Receiving update from node: '{node}'\")\n",
    "        if node == \"action\":\n",
    "          print(f\"Tool Used: {values['messages'][0].name}\")\n",
    "        print(values[\"messages\"])\n",
    "\n",
    "        print(\"\\n\\n\")"
   ]
  },
  {
   "cell_type": "markdown",
   "id": "9406b7dc",
   "metadata": {},
   "source": [
    "Abstracted SDG"
   ]
  },
  {
   "cell_type": "code",
   "execution_count": 64,
   "id": "aa02b347",
   "metadata": {},
   "outputs": [],
   "source": [
    "from ragas.llms import LangchainLLMWrapper\n",
    "from ragas.embeddings import LangchainEmbeddingsWrapper\n",
    "from langchain_openai import ChatOpenAI\n",
    "from langchain_openai import OpenAIEmbeddings\n",
    "generator_llm = LangchainLLMWrapper(ChatOpenAI(model=\"gpt-4.1-mini\"))\n",
    "generator_embeddings = LangchainEmbeddingsWrapper(OpenAIEmbeddings())"
   ]
  },
  {
   "cell_type": "code",
   "execution_count": 65,
   "id": "6888e327",
   "metadata": {},
   "outputs": [
    {
     "data": {
      "application/vnd.jupyter.widget-view+json": {
       "model_id": "32c9e0d6e2d445e6990ebd09b65bd6b6",
       "version_major": 2,
       "version_minor": 0
      },
      "text/plain": [
       "Applying HeadlinesExtractor:   0%|          | 0/17 [00:00<?, ?it/s]"
      ]
     },
     "metadata": {},
     "output_type": "display_data"
    },
    {
     "data": {
      "application/vnd.jupyter.widget-view+json": {
       "model_id": "5af5b45f2729432b889cebcad084fa23",
       "version_major": 2,
       "version_minor": 0
      },
      "text/plain": [
       "Applying HeadlineSplitter:   0%|          | 0/20 [00:00<?, ?it/s]"
      ]
     },
     "metadata": {},
     "output_type": "display_data"
    },
    {
     "name": "stderr",
     "output_type": "stream",
     "text": [
      "unable to apply transformation: 'headlines' property not found in this node\n",
      "unable to apply transformation: 'headlines' property not found in this node\n",
      "unable to apply transformation: 'headlines' property not found in this node\n"
     ]
    },
    {
     "data": {
      "application/vnd.jupyter.widget-view+json": {
       "model_id": "dcebd381f0154d93a386c3cad03cb2ae",
       "version_major": 2,
       "version_minor": 0
      },
      "text/plain": [
       "Applying SummaryExtractor:   0%|          | 0/25 [00:00<?, ?it/s]"
      ]
     },
     "metadata": {},
     "output_type": "display_data"
    },
    {
     "name": "stderr",
     "output_type": "stream",
     "text": [
      "Property 'summary' already exists in node '18a75a'. Skipping!\n",
      "Property 'summary' already exists in node '26c5da'. Skipping!\n",
      "Property 'summary' already exists in node 'e67877'. Skipping!\n",
      "Property 'summary' already exists in node '50c98d'. Skipping!\n",
      "Property 'summary' already exists in node 'a8a751'. Skipping!\n",
      "Property 'summary' already exists in node 'b40730'. Skipping!\n",
      "Property 'summary' already exists in node '227f36'. Skipping!\n",
      "Property 'summary' already exists in node '2a7cab'. Skipping!\n"
     ]
    },
    {
     "data": {
      "application/vnd.jupyter.widget-view+json": {
       "model_id": "0b1023512b1e411da66df029c1fa83ff",
       "version_major": 2,
       "version_minor": 0
      },
      "text/plain": [
       "Applying CustomNodeFilter:   0%|          | 0/21 [00:00<?, ?it/s]"
      ]
     },
     "metadata": {},
     "output_type": "display_data"
    },
    {
     "data": {
      "application/vnd.jupyter.widget-view+json": {
       "model_id": "f195b5ed00fe4e7cbceb1c3aafb72bb9",
       "version_major": 2,
       "version_minor": 0
      },
      "text/plain": [
       "Applying [EmbeddingExtractor, ThemesExtractor, NERExtractor]:   0%|          | 0/61 [00:00<?, ?it/s]"
      ]
     },
     "metadata": {},
     "output_type": "display_data"
    },
    {
     "name": "stderr",
     "output_type": "stream",
     "text": [
      "Property 'summary_embedding' already exists in node 'b40730'. Skipping!\n",
      "Property 'summary_embedding' already exists in node 'e67877'. Skipping!\n",
      "Property 'summary_embedding' already exists in node 'a8a751'. Skipping!\n",
      "Property 'summary_embedding' already exists in node '18a75a'. Skipping!\n",
      "Property 'summary_embedding' already exists in node '26c5da'. Skipping!\n",
      "Property 'summary_embedding' already exists in node '50c98d'. Skipping!\n",
      "Property 'summary_embedding' already exists in node '227f36'. Skipping!\n",
      "Property 'summary_embedding' already exists in node '2a7cab'. Skipping!\n"
     ]
    },
    {
     "data": {
      "application/vnd.jupyter.widget-view+json": {
       "model_id": "e1810b682785432c9d923485b87a5f2a",
       "version_major": 2,
       "version_minor": 0
      },
      "text/plain": [
       "Applying [CosineSimilarityBuilder, OverlapScoreBuilder]:   0%|          | 0/2 [00:00<?, ?it/s]"
      ]
     },
     "metadata": {},
     "output_type": "display_data"
    },
    {
     "data": {
      "application/vnd.jupyter.widget-view+json": {
       "model_id": "131a1d2eaa134349bc66f72098dc8874",
       "version_major": 2,
       "version_minor": 0
      },
      "text/plain": [
       "Generating personas:   0%|          | 0/3 [00:00<?, ?it/s]"
      ]
     },
     "metadata": {},
     "output_type": "display_data"
    },
    {
     "data": {
      "application/vnd.jupyter.widget-view+json": {
       "model_id": "0715c49982b14336b35e382d52262525",
       "version_major": 2,
       "version_minor": 0
      },
      "text/plain": [
       "Generating Scenarios:   0%|          | 0/3 [00:00<?, ?it/s]"
      ]
     },
     "metadata": {},
     "output_type": "display_data"
    },
    {
     "data": {
      "application/vnd.jupyter.widget-view+json": {
       "model_id": "7011e1b4d4174b6aad49818da5806074",
       "version_major": 2,
       "version_minor": 0
      },
      "text/plain": [
       "Generating Samples:   0%|          | 0/12 [00:00<?, ?it/s]"
      ]
     },
     "metadata": {},
     "output_type": "display_data"
    }
   ],
   "source": [
    "from ragas.testset import TestsetGenerator\n",
    "\n",
    "generator = TestsetGenerator(llm=generator_llm, embedding_model=generator_embeddings)\n",
    "dataset = generator.generate_with_langchain_docs(docs[:20], testset_size=10)"
   ]
  },
  {
   "cell_type": "code",
   "execution_count": 66,
   "id": "33375638",
   "metadata": {},
   "outputs": [
    {
     "data": {
      "text/plain": [
       "Testset(samples=[TestsetSample(eval_sample=SingleTurnSample(user_input='Who is Scanlan in the context of private wealth management?', retrieved_contexts=None, reference_contexts=['Strategic Asset Allocation and Investment Policy Investment policy in private wealth management differs from institutional asset allocation in a number of ways. For example, any Markowitz mean–variance optimization must reflect after-tax values for both risk and return. The portfolio may include low-basis stock. The diversification and return attributes of alternative investments must be balanced with their tax inefficiency. Individuals may have stock options. A broad interpretation of asset allocation must include off-balance-sheet assets and liabilities, such as defined-benefit pensions and prospective college tuition payments. Finally, in an after-tax environment, the hurdles for market timing and tactical asset allocation, which were already high, are worse. The preceding paragraph conveys something of the complexity of asset allocation for private wealth management. The benchmark reference for private wealth management is Brunel (2006a). He considers the asset allocation implications of low-basis stock, after-tax management of open-architecture multimanager stables, principles of tax efficiency, and whether style diversification is an impossible challenge after taxes. He also emphasizes the human side of the asset allocation decision, including the importance of managing the changeover from the current portfolio, and stresses the greater importance of wealth accumulation and asset location over periodic returns. And last but not least, he advocates for focusing on the total portfolio, not its components. Bronson, Scanlan, and Squires (2007) also convey the complexity of the individual asset allocation decision. In an extended case study, they enumerate many “hard” and “soft” issues that go into successfully managing individuals’ portfolios, while placing significant emphasis on developing an investment policy statement. They also discuss situational profiling, psychological profiling, and Monte Carlo simulation in an individual investment management context. Campbell (2004) considers both long-horizon and life-cycle investment perspectives for individuals making the asset allocation decision. His approach includes dynamic expected returns as well as declining investor horizons. In his version of “strategic asset allocation,” special emphasis is given to long-term inflation-linked bonds, such as TIPS (Treasury Inflation-Protected Securities), as the default risk-free asset for long-horizon individual investors. Retirees might also consider inflation-indexed annuities as their risk-free asset (Bodie and Treussard 2007). Many of these ideas are assembled in Horan (2009), who provides a compendium of CFA Institute and Research Foundation of CFA Institute articles that have advanced the private wealth management body of knowledge. Risk plays a role in setting the asset mix. Note that risk perception, risk tolerance, risk drag, and volatility harvesting differ in private wealth management from conventional portfolio management (see Figure 3). First, individuals seem substantially more focused on loss as a definition of risk and less accepting of the institutional focus on volatility. Accordingly, downside risk measures may merit extra attention (see Jacobsen 2006; Leibowitz and Bova 2010). Properly calibrating risk tolerance is vital in selecting among efficient portfolios. Given the difficulty of obtaining reliable results from ex ante conversations or risk questionnaires, actual reactions to the market events of 2008–2009 may prove the most useful in assessing risk tolerance. Stutzer (2004) says “accurate assessment of [risk aversion] is problematic at best” (p. 38) and suggests focusing on minimizing shortfall probabilities against a benchmark or a target return. Messmore (1995) demonstrates how volatility widens the spread between the arithmetic and geometric average return; because the geometric average drives ending wealth, mastering this concept (called “risk drag” or “variance drain”) should be required of all private wealth managers. Exhibit 1.'], response=None, multi_responses=None, reference='Scanlan is one of the authors, along with Bronson and Squires (2007), who convey the complexity of the individual asset allocation decision in private wealth management. They emphasize the importance of developing an investment policy statement and discuss situational profiling, psychological profiling, and Monte Carlo simulation in managing individual portfolios.', rubrics=None), synthesizer_name='single_hop_specifc_query_synthesizer'), TestsetSample(eval_sample=SingleTurnSample(user_input='who is bodie in private wealth management?', retrieved_contexts=None, reference_contexts=['Policy Investment policy in private wealth management differs from institutional asset allocation in a number of ways. For example, any Markowitz mean–variance optimization must reflect after-tax values for both risk and return. The portfolio may include low-basis stock. The diversification and return attributes of alternative investments must be balanced with their tax inefficiency. Individuals may have stock options. A broad interpretation of asset allocation must include off-balance-sheet assets and liabilities, such as defined-benefit pensions and prospective college tuition payments. Finally, in an after-tax environment, the hurdles for market timing and tactical asset allocation, which were already high, are worse. The preceding paragraph conveys something of the complexity of asset allocation for private wealth management. The benchmark reference for private wealth management is Brunel (2006a). He considers the asset allocation implications of low-basis stock, after-tax management of open-architecture multimanager stables, principles of tax efficiency, and whether style diversification is an impossible challenge after taxes. He also emphasizes the human side of the asset allocation decision, including the importance of managing the changeover from the current portfolio, and stresses the greater importance of wealth accumulation and asset location over periodic returns. And last but not least, he advocates for focusing on the total portfolio, not its components. Bronson, Scanlan, and Squires (2007) also convey the complexity of the individual asset allocation decision. In an extended case study, they enumerate many “hard” and “soft” issues that go into successfully managing individuals’ portfolios, while placing significant emphasis on developing an investment policy statement. They also discuss situational profiling, psychological profiling, and Monte Carlo simulation in an individual investment management context. Campbell (2004) considers both long-horizon and life-cycle investment perspectives for individuals making the asset allocation decision. His approach includes dynamic expected returns as well as declining investor horizons. In his version of “strategic asset allocation,” special emphasis is given to long-term inflation-linked bonds, such as TIPS (Treasury Inflation-Protected Securities), as the default risk-free asset for long-horizon individual investors. Retirees might also consider inflation-indexed annuities as their risk-free asset (Bodie and Treussard 2007). Many of these ideas are assembled in Horan (2009), who provides a compendium of CFA Institute and Research Foundation of CFA Institute articles that have advanced the private wealth management body of knowledge. Risk plays a role in setting the asset mix. Note that risk perception, risk tolerance, risk drag, and volatility harvesting differ in private wealth management from conventional portfolio management (see Figure 3). First, individuals seem substantially more focused on loss as a definition of risk and less accepting of the institutional focus on volatility. Accordingly, downside risk measures may merit extra attention (see Jacobsen 2006; Leibowitz and Bova 2010). Properly calibrating risk tolerance is vital in selecting among efficient portfolios. Given the difficulty of obtaining reliable results from ex ante conversations or risk questionnaires, actual reactions to the market events of 2008–2009 may prove the most useful in assessing risk tolerance. Stutzer (2004) says “accurate assessment of [risk aversion] is problematic at best” (p. 38) and suggests focusing on minimizing shortfall probabilities against a benchmark or a target return. Messmore (1995) demonstrates how volatility widens the spread between the arithmetic and geometric average return; because the geometric average drives ending wealth, mastering this concept (called “risk drag” or “variance drain”) should be required of all private wealth managers. Exhibit 1. Overview of Private Wealth Management Policy'], response=None, multi_responses=None, reference='Bodie is referenced in the context of retirees considering inflation-indexed annuities as their risk-free asset, as noted by Bodie and Treussard (2007).', rubrics=None), synthesizer_name='single_hop_specifc_query_synthesizer'), TestsetSample(eval_sample=SingleTurnSample(user_input='What mean Inheritance in portfolio management?', retrieved_contexts=None, reference_contexts=['Implementation Other Issues • Asset mix • Style structure • Inheritance • Subportfolios • Rebalancing • Philanthropy • Tax adjustments • Low-basis stock • Behavioral finance • Extended portfolio • Asset location • Legal concerns • Asset/liability management • Tax • Ethics • Saving and decumulation'], response=None, multi_responses=None, reference='Inheritance is one of the implementation issues considered in portfolio management, alongside asset mix, style structure, subportfolios, rebalancing, philanthropy, tax adjustments, low-basis stock, behavioral finance, extended portfolio, asset location, legal concerns, asset/liability management, tax, ethics, and saving and decumulation.', rubrics=None), synthesizer_name='single_hop_specifc_query_synthesizer'), TestsetSample(eval_sample=SingleTurnSample(user_input='what CFA Institute say about hedge funds for private wealth investors?', retrieved_contexts=None, reference_contexts=['Private Wealth Management 6 ©2010 The Research Foundation of CFA Institute Before proceeding to more complex topics and thereby building a case for the sophisticated value that private wealth managers can bring to their clients, we would like to emphasize clients’ sophistication. No one knows their situation better than they do. Bodie and Crane (1997) offer insights on how individuals really manage their portfolios. After a number of other studies examined individual investors’ retirement accounts and found them underdiversified, Bodie and Crane examined individuals’ retirement accounts in the context of their total portfolios. In contrast to the folk wisdom among private wealth managers and the conclusions of the earlier studies, Bodie and Crane find that the total portfolios are well diversified and are structured consistently with finance theory and best practices prescribed by experts. In short, clients are more sophisticated than early studies showed. Alternative Assets. Modern portfolios may include exposure to so-called alternative assets. For individual investors, alternative assets present unique challenges. Most private wealth clients lack institutional scale, so achieving reasonable within-class diversification may be difficult. Funds of funds afford diversification but at a price of additional fees. Furthermore, manager transitions within a single fund of funds have tax consequences that are generally not factored into fund-of-funds portfolio management. Many hedge fund strategies are high turnover, commodities based, or otherwise tax inefficient. It is somewhat ironic that hedge funds, which were initially more of a high-net-worth strategy than an institutional one, may be inappropriate for taxable accounts even as they become more institutionally acceptable. Other investments, such as REITs and fixed income, are also tax inefficient. But unlike the volatility of some tax-inefficient investments, alternative investments’ volatility creates opportunities for tax-loss harvesting. Finally, private wealth clients benefit from alternatives’ potentially lower correlation with traditional asset classes, just like institutional investors do. Building on this motivation, Brunel (1999b) considers what role alternative assets should play for taxable investors by using multiperiod after-tax portfolio optimization software. His definition of alternatives is somewhat nebulous, but the description and risk–return characteristics look like hedge funds. Brunel concludes that taxable investors should favor alternatives more than tax-exempt investors do, especially investors with average to above-average risk profiles. Nonetheless, Brunel (2003a) points out that hedge funds are not homogeneous and should not be considered an asset class per se. Moreover, alternative assets have unique liquidity, market, and operational risks that are not present in traditional investments; Runquist (2004) introduces a set of articles from CFA Institute that investigates a number of issues with hedge funds for private wealth investors. Liquidity concerns might temper this favorable view of alternatives. Many alternative asset classes are illiquid, and illiquidity can be especially insidious for private wealth clients whose changing circumstances (e.g., health, marital status, or interests) can create unexpected liquidity needs. Milevsky (2004) demonstrates that low correlation between a given asset class and the remainder of the portfolio—a feature Brunel (1999b) lauds—increases the likelihood of breaching a given policy weight. Therefore, he finds that low-correlation illiquid asset classes should receive smaller initial allocations than traditional mean–variance analysis suggests. Terhaar, Staub, and Singer (2003) and Siegel (2008), although general investment pieces (not specialized for private wealth management), seem prescient in recommending a much smaller allocation to alternative assets than other articles published before the 2008 crash. One alternative asset class that unambiguously has particular benefits to taxable investors is timberland. Benefits include having returns in the form of tax-advantaged capital gains rather than ordinary income, depletion deductions at harvesting, and the ability to use passive losses prior to harvesting. Corriero (2005) concludes that these tax attributes should cause timberland to be a viable asset for taxable investors.'], response=None, multi_responses=None, reference='Runquist (2004) introduces a set of articles from CFA Institute that investigates a number of issues with hedge funds for private wealth investors.', rubrics=None), synthesizer_name='single_hop_specifc_query_synthesizer'), TestsetSample(eval_sample=SingleTurnSample(user_input='How can private wealth managers utilize after-tax portfolio optimization and tax-efficient withdrawal strategies, including the sequencing of withdrawals from taxable, tax-deferred, and tax-exempt accounts, to enhance portfolio longevity for high-net-worth clients?', retrieved_contexts=None, reference_contexts=['<1-hop>\\n\\nPrivate Wealth Management 6 ©2010 The Research Foundation of CFA Institute Before proceeding to more complex topics and thereby building a case for the sophisticated value that private wealth managers can bring to their clients, we would like to emphasize clients’ sophistication. No one knows their situation better than they do. Bodie and Crane (1997) offer insights on how individuals really manage their portfolios. After a number of other studies examined individual investors’ retirement accounts and found them underdiversified, Bodie and Crane examined individuals’ retirement accounts in the context of their total portfolios. In contrast to the folk wisdom among private wealth managers and the conclusions of the earlier studies, Bodie and Crane find that the total portfolios are well diversified and are structured consistently with finance theory and best practices prescribed by experts. In short, clients are more sophisticated than early studies showed. Alternative Assets. Modern portfolios may include exposure to so-called alternative assets. For individual investors, alternative assets present unique challenges. Most private wealth clients lack institutional scale, so achieving reasonable within-class diversification may be difficult. Funds of funds afford diversification but at a price of additional fees. Furthermore, manager transitions within a single fund of funds have tax consequences that are generally not factored into fund-of-funds portfolio management. Many hedge fund strategies are high turnover, commodities based, or otherwise tax inefficient. It is somewhat ironic that hedge funds, which were initially more of a high-net-worth strategy than an institutional one, may be inappropriate for taxable accounts even as they become more institutionally acceptable. Other investments, such as REITs and fixed income, are also tax inefficient. But unlike the volatility of some tax-inefficient investments, alternative investments’ volatility creates opportunities for tax-loss harvesting. Finally, private wealth clients benefit from alternatives’ potentially lower correlation with traditional asset classes, just like institutional investors do. Building on this motivation, Brunel (1999b) considers what role alternative assets should play for taxable investors by using multiperiod after-tax portfolio optimization software. His definition of alternatives is somewhat nebulous, but the description and risk–return characteristics look like hedge funds. Brunel concludes that taxable investors should favor alternatives more than tax-exempt investors do, especially investors with average to above-average risk profiles. Nonetheless, Brunel (2003a) points out that hedge funds are not homogeneous and should not be considered an asset class per se. Moreover, alternative assets have unique liquidity, market, and operational risks that are not present in traditional investments; Runquist (2004) introduces a set of articles from CFA Institute that investigates a number of issues with hedge funds for private wealth investors. Liquidity concerns might temper this favorable view of alternatives. Many alternative asset classes are illiquid, and illiquidity can be especially insidious for private wealth clients whose changing circumstances (e.g., health, marital status, or interests) can create unexpected liquidity needs. Milevsky (2004) demonstrates that low correlation between a given asset class and the remainder of the portfolio—a feature Brunel (1999b) lauds—increases the likelihood of breaching a given policy weight. Therefore, he finds that low-correlation illiquid asset classes should receive smaller initial allocations than traditional mean–variance analysis suggests. Terhaar, Staub, and Singer (2003) and Siegel (2008), although general investment pieces (not specialized for private wealth management), seem prescient in recommending a much smaller allocation to alternative assets than other articles published before the 2008 crash. One alternative asset class that unambiguously has particular benefits to taxable investors is timberland. Benefits include having returns in the form of tax-advantaged capital gains rather than ordinary income, depletion deductions at harvesting, and the ability to use passive losses prior to harvesting. Corriero (2005) concludes that these tax attributes should cause timberland to be a viable asset for taxable investors.', '<2-hop>\\n\\nPrivate Wealth Management ©2010 The Research Foundation of CFA Institute 19 In summary, a portfolio’s longevity may be lengthened by two to five years by spending funds from taxable accounts before retirement accounts. Furthermore, a portfolio’s longevity may be lengthened by a year or two by withdrawing funds from tax-deferred accounts up to the top of a “low” tax bracket and withdrawing additional funds from tax-exempt accounts. Combining the two strategies suggests that retirees may add several years to a portfolio by withdrawing funds in a tax-smart manner. The Role of Social Government Retirement Insurance. Many jurisdictions have a social safety net that provides retirement income for its citizens. Frequently called “social security,” it often represents a significant source of income, especially for non-high-net-worth investors. Jennings and Reichenstein (2001a) emphasize that the present value of these benefits may be large enough to influence even high-net-worth investors’ portfolios. Although programs vary widely from one jurisdiction to the next, a common element is the provision of lifetime income that mitigates longevity risk. For many investors, this social government retirement insurance is an important risk management tool. Often, beneficiaries are given a choice of when to begin receiving benefits, with the promise of higher benefits if they choose to delay initiation. Several studies have determined which starting date maximizes the present value of benefits in a U.S. setting. Sun and Webb (2009) and Meyer and Reichenstein (2010) also determine which date or dates minimize longevity risk. For single taxpayers who will live an average lifetime and who will not be subject to an earnings test, the present value of benefits is approximately the same no matter when benefits begin. Therefore, based on the present value criterion, singles with short life expectancies should begin benefits early and vice versa. To minimize longevity risk, singles should delay benefits to age 70. The decisions for couples revolve around spousal and survivors benefits. The consensus opinion appears to be that the higher earner should delay the start of benefits based on his or her earnings record until age 70, whereas the lower earner should probably begin benefits early. Munnell and Soto (2005) consider only the present value criterion and conclude that if the lower earner’s primary insurance amount (PIA) is at least 40 percent of the higher earner’s, the present value of benefits is maximized when the lower earner begins benefits at age 62 and the higher earner begins at 69. Sun and Webb (2009) and Meyer and Reichenstein (2010) consider both criteria and conclude that the higher earner should delay the start of benefits based on his or her earnings record until age 70; a key insight is that this delay will maximize the surviving spouse’s benefits. Meyer and Reichenstein (2010) note that the higher earner should begin spousal benefits when he or she attains full retirement age and then switch to benefits based on his or her earnings record at 70. There is less consensus on whether the lower earner should begin benefits early or nearer full retirement age, but it also appears to be a less important issue.'], response=None, multi_responses=None, reference='Private wealth managers can enhance portfolio longevity for high-net-worth clients by applying after-tax portfolio optimization and tax-efficient withdrawal strategies. According to Brunel (1999b), taxable investors should favor alternative assets more than tax-exempt investors, especially those with average to above-average risk profiles, as part of after-tax portfolio optimization. These alternatives, despite challenges such as illiquidity and tax inefficiency in some cases, offer diversification benefits and opportunities for tax-loss harvesting. Additionally, retirees can extend their portfolio’s longevity by two to five years by spending funds from taxable accounts before tapping into retirement accounts. Further longevity gains of one to two years may be achieved by withdrawing funds from tax-deferred accounts up to the top of a low tax bracket and then withdrawing additional funds from tax-exempt accounts. Combining these withdrawal sequencing strategies allows retirees to add several years to their portfolio life. This approach aligns with the sophisticated understanding that private wealth clients have of their portfolios and the tax implications of various asset classes and withdrawal methods.', rubrics=None), synthesizer_name='multi_hop_abstract_query_synthesizer'), TestsetSample(eval_sample=SingleTurnSample(user_input='How do private wealth managers incorporate tax considerations into rebalancing strategies to optimize savings and wealth accumulation for high-net-worth clients?', retrieved_contexts=None, reference_contexts=['<1-hop>\\n\\nPrivate Wealth Management ©2010 The Research Foundation of CFA Institute 13 unlikely to be large enough to “pay their own taxes” induced by using futures. See Clarke, de Silva, and Thorley (2009) on alpha–beta separation, Jeffrey and Arnott (1993) on alphas needing to pay their own taxes, and Chance (2007) on the tax inefficiency of derivatives-based strategies. Rebalancing. The tax cost of rebalancing is another topic of significance to private wealth managers. Although rebalancing helps control risk, the private wealth manager must compare the costs and benefits of rebalancing. In general, the optimal solution is often to balance part-way back to the strategic asset mix. Leland (1999), Donohue and Yip (2003), and Masters (2003) provide important generalist works on rebalancing. A number of factors influence rebalancing ranges for particular asset classes: • the risk of the asset class, • the risk of the remainder of the portfolio, • the risk tolerance of the investor, • the correlation of the asset class with the remainder of the portfolio, and • transaction costs. Private wealth managers considering these factors should note particularly the inclusion of transaction costs. Taxes are a form of transaction cost—and are likely much larger than explicit transaction costs. Heavy tax transaction costs can substantially widen the no-trade region where rebalancing should not occur. The fact that taxes are paid on gains and at least partially recaptured on losses can produce asymmetries in rebalancing ranges. (Taxes increase transaction costs when an asset has appreciated but lower transaction costs through realizing capital losses when an asset has depreciated. Accordingly, rebalancing ranges will be wider for gains and tighter for losses.) Under this interpretation, the same asset held in a taxable account and a tax-advantaged account is treated differently in rebalancing. Rebalancing the asset held in the tax-advantaged account does not have tax-related transaction costs. Accordingly, a single asset, such as stocks, has two different rebalance ranges. If portfolios are sufficiently out of balance to merit trading, what should private wealth managers do? Donohue and Yip (2003) recommend rebalancing back to range edges. For example, if the relevant range is 55–65 percent stocks and the 65 percent limit is surpassed, go back to 65 percent stocks. In contrast, Masters (2003) recommends rebalancing half-way back from the range edge to the target allocation, 62.5 percent from the preceding example. This conclusion arises from his cost-versus-benefit approach to rebalancing. Whichever approach one finds more persuasive, the private wealth manager needs to incorporate taxes as a transaction cost into his or her thinking—likely widening the ranges over tax-exempt investors and producing an asymmetry. Horvitz (2002) provides a no-equations consideration of rebalancing in private wealth management. He takes the view that practical impediments and operational realities are generally given short shrift in the mathematical rebalancing literature. He gives particular consideration to the problems of rebalancing illiquid assets, such as private equity or real estate, and concludes “there may be little point in rebalancing only those portions of a portfolio that are liquid” (p. 49). Saving and Spending Strategies All finance professionals are aware of the importance of systematic saving to build wealth. Whether in the context of retirement planning or creating wealth through a family business, life-cycle investing is principally divided into accumulation and distribution phases. This section focuses on ideas that, although typically developed in either the mass affluent or high-net-worth investor setting, have applications to most all high-net-worth investors.', '<2-hop>\\n\\nSavings and Wealth Accumulation. Ibbotson, Xiong, Kreitler, Kreitler, and Chen (2007) develop guidelines for savings rates for a variety of individual circumstances. For various income levels and ages, they show the annual savings rate required to replace 80 percent of income. This savings rate is adjusted downward based on the amount of current savings. Because they include Social Security and focus on retirement income replacement, they show that high-income individuals need much higher savings rates than low-income individuals. Similarly, Leibowitz, Durham, Hammond, and Heller (2002) port the institutional concept of the pension funding ratio to come up with guidance on appropriate asset-to-salary ratios for different income replacement levels, time until retirement, expected returns, and savings rates.'], response=None, multi_responses=None, reference='Private wealth managers incorporate tax considerations into rebalancing strategies by treating taxes as a significant form of transaction cost, often larger than explicit transaction costs. This tax impact widens the no-trade region where rebalancing should not occur, creating asymmetries in rebalancing ranges: wider ranges for assets that have appreciated (due to higher tax costs) and tighter ranges for depreciated assets (due to potential capital loss realization). Consequently, the same asset held in taxable and tax-advantaged accounts is managed differently, with tax-advantaged accounts having no tax-related transaction costs and thus narrower rebalancing ranges. Managers may choose to rebalance either back to the range edge or halfway to the target allocation, balancing cost versus benefit. These tax-aware rebalancing strategies help control risk while optimizing after-tax returns, which is crucial for savings and wealth accumulation, especially for high-net-worth clients who require tailored savings rates and asset-to-salary ratios to meet their income replacement goals.', rubrics=None), synthesizer_name='multi_hop_abstract_query_synthesizer'), TestsetSample(eval_sample=SingleTurnSample(user_input='how private wealth managers use the concept of longevity risk and conservative investment posture from extended portfolio including liabilities and assets to guide rebalancing decisions in portfolio implementation?', retrieved_contexts=None, reference_contexts=['<1-hop>\\n\\nPrivate Wealth Management ©2010 The Research Foundation of CFA Institute 11 Similarly, Black, Ciccotello, and Skipper (2002) advocate for “comprehensive personal financial planning,” including a wide range of off-balance-sheet assets and liabilities; their approach is broader than the retirement focus of Reichenstein (1998) and Reichenstein and Jennings (2003) and broader than the expanded-asset view of Chen, Ibbotson, Milevsky, and Zhu (2006). Black, Ciccotello, and Skipper’s view of the family portfolio includes such assets as “government benefits, insurance, expected inheritances or other family support, and human capital” (p. 3). In addition, they include such liabilities as mortgages and future expenditures “including but not limited to tax, housing, education, and health care” (p. 3). Theirs is one of the broadest definitions of the extended portfolio in the literature. Wilcox, Horvitz, and diBartolomeo (2006) encourage private wealth managers to form a time series of implied balance sheets for each client. Assets and liabilities are assets and liabilities, both implied and actual. For example, the present value of future savings from employment is an implied employment asset, whereas the present value of spending in retirement is an implied liability. The ratio of discretionary wealth to total assets, where discretionary wealth is total assets less total liabilities, determines the client’s appropriate level of investment aggressiveness. Clients with large relative discretionary wealth can invest aggressively, whereas clients with no or little discretionary wealth to total assets should invest conservatively. Wilcox (2008) extends the analysis to incorporate the uncertain nature of investment goals resulting largely from longevity risk and shows that this uncertainty suggests a more conservative investment posture. Modern financial engineering offers the potential to better address client needs than traditional approaches have. Bodie (2003) contrasts life-cycle investing with single-period Markowitz optimization and describes how advances in financial engineering as well as developments in individual investor psychology can be used to help investors reach their goals. Like Bodie, Merton (2003) offers insights on life-cycle investing and sophisticated financial products. For individual investors, Merton advocates considering the risk of human capital, the risk of future reinvestments, volatility of spending versus volatility of wealth, the importance of targeted expenditures (i.e., liabilities), and “condo value insurance” (which hedges against residential real estate declining in value). Warshawsky (2007) discusses how investors can efficiently hedge risks associated with longevity and long-term health care by bundling a life annuity and long-term care insurance. His work is part of a larger body of readings on life-cycle investing edited by Bodie, McLeavey, and Siegel (2007) and another subsequent set of readings focused on retirement by Bodie, Siegel, and Sullivan (2009). Institutional pension management has long incorporated the idea of asset/liability management (ALM) or liability-driven investing (LDI). It is a truism that investors without liabilities do not need to invest; the point of the asset portfolio is to defer consumption to pay for future liabilities. Amenc, Martellini, Milhau, and Ziemann (2009) attempt to more practically operationalize the insights of institutional ALM and LDI in the private wealth management context. They emphasize that liability awareness requires consideration of the properties of assets that hedge those liabilities. For many individual investors, these liabilities include inflation-sensitive future consumption and the future purchase of real estate. Although not labeled as such, a type of ALM applied to taxable private clients is seen in the work of Wilcox, Horvitz, and diBartolomeo (2006). The case for thinking about the extended portfolio of assets and liabilities is compelling. Private wealth managers can add value for clients by incorporating these ideas into portfolio management. The uniqueness of each investor’s “off-balance-sheet” assets means wealth managers can add value by customizing the financial portfolio.', '<2-hop>\\n\\nPortfolio Implementation After the strategic asset mix is decided, the work of the private wealth manager is not complete. The operational realities of private wealth management differ from those of institutional investment management. In the following, we consider two aspects of portfolio implementation—manager structure and rebalancing—where private wealth management has a distinctive approach.', '<3-hop>\\n\\nImplementation Other Issues • Asset mix • Style structure • Inheritance • Subportfolios • Rebalancing • Philanthropy • Tax adjustments • Low-basis stock • Behavioral finance • Extended portfolio • Asset location • Legal concerns • Asset/liability management • Tax • Ethics • Saving and decumulation'], response=None, multi_responses=None, reference='Private wealth managers incorporate longevity risk and a conservative investment posture by considering an extended portfolio that includes both on- and off-balance-sheet assets and liabilities, such as government benefits, insurance, expected inheritances, mortgages, and future expenditures like tax, housing, education, and health care. This broad view helps determine the ratio of discretionary wealth to total assets, guiding the appropriate level of investment aggressiveness—clients with little discretionary wealth relative to total assets are advised to invest conservatively due to the uncertainty of investment goals largely driven by longevity risk. After deciding the strategic asset mix, private wealth managers address operational realities including rebalancing, which is a distinctive aspect of portfolio implementation in private wealth management. By integrating these themes, managers can customize portfolios and adjust asset allocations over time to balance risk, tax implications, and client-specific liabilities, thereby optimizing after-tax, risk-adjusted returns while managing longevity risk.', rubrics=None), synthesizer_name='multi_hop_abstract_query_synthesizer'), TestsetSample(eval_sample=SingleTurnSample(user_input='How does tax-adjusted asset allocation influence the decision on asset location in private wealth portfolios, considering the tax preferences of equity and the simultaneous solving of asset allocation and asset location problems?', retrieved_contexts=None, reference_contexts=['<1-hop>\\n\\nPrivate Wealth Management ©2010 The Research Foundation of CFA Institute 7 astounding compound returns demonstrated in the Ibbotson–Sinquefield series—especially for equity investors. Luck (2003) and Horvitz and Wilcox (2003) also demonstrate the value of active tax management, such as loss harvesting. In short, taxes matter. Less well understood is that taxes also affect investment risk. To put it simply, governments share in investment risk through taxation on assets held in taxable accounts. Suppose asset returns are taxed entirely as ordinary income at the rate of t. If the standard deviation of pretax returns is \\uf073 and all investment losses provide tax deductions in the year they are incurred, then the standard deviation of after-tax returns is \\uf073(1 – t). That is, an investor bears only 1 – t of the pretax risk. Reichenstein (2007) provides an example, and others provide formal proofs (see, for example, Horan 2007a, 2007b; Horan and Al Zaman 2008). The government’s role in sharing risk and return has implications for asset allocation, asset location, and portfolio optimization. Jacob (1998, 1999) provides an early overview of the difference between traditional portfolio optimization and optimization for private wealth clients. Jacob is a pioneer of multiperiod, after-tax optimization as an alternative to classic mean–variance analysis. Her papers rely on a then-groundbreaking after- tax optimizer. Leibowitz (2003) shows how capital gains taxation can make the after-tax equity risk premium larger than the tax-free risk premium. Leibowitz and Bova (2009), for example, show that taxes change the reward- to-risk ratios and that the incentive to take risks may be greater for taxable investors. Reichenstein (2001, 2007), Wilcox, Horvitz, and diBartolomeo (2006), and Rogers (2006) apply these concepts to mean–variance optimiza- tion and show that optimal tax-adjusted asset allocations are substantially different from those derived in a tax- free environment. Horan (2007a) extends the approach to a broader set of taxable environments and predicates notions of tax-adjusted return on after-tax values rather than pretax values. In addition, Reichenstein (2001, 2006a, 2007), Horan (2005, 2007b), and Horan and Al Zaman (2008) suggest adjusting the pretax balances in tax-deferred accounts to after-tax dollars and calculating asset allocation based on the assets’ after-tax values. Each of the just-mentioned authors approaches the problem from a slightly different perspective. Horan and Al Zaman review the approaches, outline their relative merits, and extend the models by incorporating an asset’s cost basis. In general, however, the basic approach to tax-adjusted portfolio optimization involves adjusting expected returns, standard deviations, and (possibly) market values to reflect taxes. An important concept is that the same asset held in two different types of accounts essentially becomes two distinct after-tax assets (see Reichenstein 2001) because its after-tax expected return and after-tax standard deviation depend on the type of account in which it is held. For example, stocks and bonds held in taxable and tax-deferred accounts represent four different after-tax assets. More generally, n assets held in m account types may be effectively n × m distinct “assets” in an after-tax portfolio optimization. The variance–covariance matrix for n assets across m accounts, therefore, may grow to have n × m rows and n × m columns. Another important insight is that this type of tax-adjusted portfolio optimization solves the asset allocation and asset location problems simultaneously, which is discussed in the next section. In many jurisdictions, low-turnover equity strategies have return components that are taxed less heavily than ordinary income and are sometimes deferred. Therefore, stocks generally have less tax drag as an asset class than bonds that are taxed at higher rates with little opportunity for deferral. As a result, Horan and Al Zaman (2008) show that tax-adjusted portfolio optimization typically produces two results: • Taxable investors generally require a higher equity allocation than pretax investors to achieve the same risk exposure because taxes absorb some of the pretax risk. • Equity tends to be located in taxable accounts rather than tax-deferred accounts because equity returns are tax preferenced. See Dammon, Spatt, and Zhang (2004) and Shoven and Sialm (2004) for related studies.', '<2-hop>\\n\\nAsset Location and Ownership Structure. A military aphorism holds that amateurs talk strategy while professionals talk logistics. That is, amateurs talk about the glamorous topic while professionals talk about the details. With private wealth management, the equivalent saying might be: Amateurs talk returns while professionals talk asset location.'], response=None, multi_responses=None, reference='Tax-adjusted asset allocation affects asset location decisions by recognizing that the same asset held in different account types becomes distinct after-tax assets with different expected returns and risks. Specifically, stocks generally have less tax drag than bonds because their returns are taxed less heavily and sometimes deferred, making equity returns tax-preferenced. As a result, tax-adjusted portfolio optimization typically leads to a higher equity allocation for taxable investors to achieve the same risk exposure and favors locating equity in taxable accounts rather than tax-deferred accounts. This approach simultaneously addresses asset allocation and asset location problems, reflecting the importance of detailed logistics in private wealth management.', rubrics=None), synthesizer_name='multi_hop_abstract_query_synthesizer'), TestsetSample(eval_sample=SingleTurnSample(user_input='how private wealth manager do rebalancing different from institutional with asset mix and style structure?', retrieved_contexts=None, reference_contexts=['<1-hop>\\n\\nPortfolio Implementation After the strategic asset mix is decided, the work of the private wealth manager is not complete. The operational realities of private wealth management differ from those of institutional investment management. In the following, we consider two aspects of portfolio implementation—manager structure and rebalancing—where private wealth management has a distinctive approach.', '<2-hop>\\n\\nImplementation Other Issues • Asset mix • Style structure • Inheritance • Subportfolios • Rebalancing • Philanthropy • Tax adjustments • Low-basis stock • Behavioral finance • Extended portfolio • Asset location • Legal concerns • Asset/liability management • Tax • Ethics • Saving and decumulation'], response=None, multi_responses=None, reference='Private wealth management differs from institutional investment management in portfolio implementation, particularly in aspects such as manager structure and rebalancing. After deciding the strategic asset mix, private wealth managers address operational realities including rebalancing alongside other issues like asset mix, style structure, inheritance, subportfolios, philanthropy, tax adjustments, and behavioral finance, reflecting a distinctive approach to managing portfolios.', rubrics=None), synthesizer_name='multi_hop_specific_query_synthesizer'), TestsetSample(eval_sample=SingleTurnSample(user_input=\"How do Ibbotson's guidelines on savings rates for income replacement integrate with the broader asset and liability considerations in private wealth management to optimize portfolio construction?\", retrieved_contexts=None, reference_contexts=['<1-hop>\\n\\nSavings and Wealth Accumulation. Ibbotson, Xiong, Kreitler, Kreitler, and Chen (2007) develop guidelines for savings rates for a variety of individual circumstances. For various income levels and ages, they show the annual savings rate required to replace 80 percent of income. This savings rate is adjusted downward based on the amount of current savings. Because they include Social Security and focus on retirement income replacement, they show that high-income individuals need much higher savings rates than low-income individuals. Similarly, Leibowitz, Durham, Hammond, and Heller (2002) port the institutional concept of the pension funding ratio to come up with guidance on appropriate asset-to-salary ratios for different income replacement levels, time until retirement, expected returns, and savings rates.', '<2-hop>\\n\\nPrivate Wealth Management ©2010 The Research Foundation of CFA Institute 11 Similarly, Black, Ciccotello, and Skipper (2002) advocate for “comprehensive personal financial planning,” including a wide range of off-balance-sheet assets and liabilities; their approach is broader than the retirement focus of Reichenstein (1998) and Reichenstein and Jennings (2003) and broader than the expanded-asset view of Chen, Ibbotson, Milevsky, and Zhu (2006). Black, Ciccotello, and Skipper’s view of the family portfolio includes such assets as “government benefits, insurance, expected inheritances or other family support, and human capital” (p. 3). In addition, they include such liabilities as mortgages and future expenditures “including but not limited to tax, housing, education, and health care” (p. 3). Theirs is one of the broadest definitions of the extended portfolio in the literature. Wilcox, Horvitz, and diBartolomeo (2006) encourage private wealth managers to form a time series of implied balance sheets for each client. Assets and liabilities are assets and liabilities, both implied and actual. For example, the present value of future savings from employment is an implied employment asset, whereas the present value of spending in retirement is an implied liability. The ratio of discretionary wealth to total assets, where discretionary wealth is total assets less total liabilities, determines the client’s appropriate level of investment aggressiveness. Clients with large relative discretionary wealth can invest aggressively, whereas clients with no or little discretionary wealth to total assets should invest conservatively. Wilcox (2008) extends the analysis to incorporate the uncertain nature of investment goals resulting largely from longevity risk and shows that this uncertainty suggests a more conservative investment posture. Modern financial engineering offers the potential to better address client needs than traditional approaches have. Bodie (2003) contrasts life-cycle investing with single-period Markowitz optimization and describes how advances in financial engineering as well as developments in individual investor psychology can be used to help investors reach their goals. Like Bodie, Merton (2003) offers insights on life-cycle investing and sophisticated financial products. For individual investors, Merton advocates considering the risk of human capital, the risk of future reinvestments, volatility of spending versus volatility of wealth, the importance of targeted expenditures (i.e., liabilities), and “condo value insurance” (which hedges against residential real estate declining in value). Warshawsky (2007) discusses how investors can efficiently hedge risks associated with longevity and long-term health care by bundling a life annuity and long-term care insurance. His work is part of a larger body of readings on life-cycle investing edited by Bodie, McLeavey, and Siegel (2007) and another subsequent set of readings focused on retirement by Bodie, Siegel, and Sullivan (2009). Institutional pension management has long incorporated the idea of asset/liability management (ALM) or liability-driven investing (LDI). It is a truism that investors without liabilities do not need to invest; the point of the asset portfolio is to defer consumption to pay for future liabilities. Amenc, Martellini, Milhau, and Ziemann (2009) attempt to more practically operationalize the insights of institutional ALM and LDI in the private wealth management context. They emphasize that liability awareness requires consideration of the properties of assets that hedge those liabilities. For many individual investors, these liabilities include inflation-sensitive future consumption and the future purchase of real estate. Although not labeled as such, a type of ALM applied to taxable private clients is seen in the work of Wilcox, Horvitz, and diBartolomeo (2006). The case for thinking about the extended portfolio of assets and liabilities is compelling. Private wealth managers can add value for clients by incorporating these ideas into portfolio management. The uniqueness of each investor’s “off-balance-sheet” assets means wealth managers can add value by customizing the financial portfolio.'], response=None, multi_responses=None, reference=\"Ibbotson, Xiong, Kreitler, Kreitler, and Chen (2007) develop guidelines for savings rates tailored to various income levels and ages, showing the annual savings rate required to replace 80 percent of income, adjusted downward based on current savings. They emphasize that high-income individuals need much higher savings rates than low-income individuals due to the focus on retirement income replacement. Integrating this with broader private wealth management perspectives, Black, Ciccotello, and Skipper (2002) advocate for comprehensive personal financial planning that includes off-balance-sheet assets and liabilities such as government benefits, insurance, inheritances, mortgages, and future expenditures like taxes and healthcare. Wilcox, Horvitz, and diBartolomeo (2006) further suggest forming implied balance sheets that consider both actual and implied assets and liabilities, such as the present value of future employment savings and retirement spending. This extended portfolio approach allows private wealth managers to determine appropriate investment aggressiveness based on the ratio of discretionary wealth to total assets. By combining Ibbotson's savings rate guidelines with these broader asset and liability considerations, private wealth managers can customize portfolio construction to balance risk, return, and tax implications effectively for each client.\", rubrics=None), synthesizer_name='multi_hop_specific_query_synthesizer'), TestsetSample(eval_sample=SingleTurnSample(user_input='How do Ibbotson and colleagues address risk management challenges such as mortality risk and savings rate guidelines for different income levels in the context of wealth accumulation and retirement planning?', retrieved_contexts=None, reference_contexts=['<1-hop>\\n\\nRisk Management. The annuitization decision is really just one of several risk management challenges faced by individual investors. In addition to facing longevity risk (i.e., the risk of living too long), investors face mortality risk (i.e., the risk of dying before human capital is monetized into labor income), medical risk (i.e., the risk of costly health expense), property risk (i.e., the risk of creditors having claims on assets), business risk, political risk, and legal risk, just to name a few. Figure 3 shows several of these risks. It is the job of the wealth manager to identify, quantify, and manage the relevant risks. The magnitude and nature of mortality risk, for example, is most likely dependent on one’s age and is most commonly hedged through life insurance. Ostaszewski (2003) and Ibbotson, Milevsky, Chen, and Zhu (2007) analyze the life insurance decision within the context of asset allocation and human capital. Brown and Finkelstein (2009) review the long-term care insurance literature. Zietz (2003) reviews the insurance literature more generally. Interestingly, life insurance might also be a tax-efficient estate planning tool in the presence of estate taxes (Macklin 2001).', '<2-hop>\\n\\nSavings and Wealth Accumulation. Ibbotson, Xiong, Kreitler, Kreitler, and Chen (2007) develop guidelines for savings rates for a variety of individual circumstances. For various income levels and ages, they show the annual savings rate required to replace 80 percent of income. This savings rate is adjusted downward based on the amount of current savings. Because they include Social Security and focus on retirement income replacement, they show that high-income individuals need much higher savings rates than low-income individuals. Similarly, Leibowitz, Durham, Hammond, and Heller (2002) port the institutional concept of the pension funding ratio to come up with guidance on appropriate asset-to-salary ratios for different income replacement levels, time until retirement, expected returns, and savings rates.'], response=None, multi_responses=None, reference='Ibbotson and colleagues analyze risk management challenges by examining mortality risk within the broader context of asset allocation and human capital, highlighting that mortality risk varies with age and is commonly hedged through life insurance, which can also serve as a tax-efficient estate planning tool. Additionally, Ibbotson, Xiong, Kreitler, Kreitler, and Chen (2007) develop savings rate guidelines tailored to various income levels and ages, showing the annual savings rate required to replace 80 percent of income, adjusted downward based on current savings. Their work emphasizes that high-income individuals need much higher savings rates than low-income individuals, incorporating factors such as Social Security and focusing on retirement income replacement, thereby providing comprehensive guidance on savings and wealth accumulation in retirement planning.', rubrics=None), synthesizer_name='multi_hop_specific_query_synthesizer'), TestsetSample(eval_sample=SingleTurnSample(user_input=\"How Chen's work on life insurance decision and extended portfolio approach help private wealth managers manage risks like mortality and human capital in a tax-efficient way?\", retrieved_contexts=None, reference_contexts=['<1-hop>\\n\\nRisk Management. The annuitization decision is really just one of several risk management challenges faced by individual investors. In addition to facing longevity risk (i.e., the risk of living too long), investors face mortality risk (i.e., the risk of dying before human capital is monetized into labor income), medical risk (i.e., the risk of costly health expense), property risk (i.e., the risk of creditors having claims on assets), business risk, political risk, and legal risk, just to name a few. Figure 3 shows several of these risks. It is the job of the wealth manager to identify, quantify, and manage the relevant risks. The magnitude and nature of mortality risk, for example, is most likely dependent on one’s age and is most commonly hedged through life insurance. Ostaszewski (2003) and Ibbotson, Milevsky, Chen, and Zhu (2007) analyze the life insurance decision within the context of asset allocation and human capital. Brown and Finkelstein (2009) review the long-term care insurance literature. Zietz (2003) reviews the insurance literature more generally. Interestingly, life insurance might also be a tax-efficient estate planning tool in the presence of estate taxes (Macklin 2001).', '<2-hop>\\n\\nPrivate Wealth Management ©2010 The Research Foundation of CFA Institute 11 Similarly, Black, Ciccotello, and Skipper (2002) advocate for “comprehensive personal financial planning,” including a wide range of off-balance-sheet assets and liabilities; their approach is broader than the retirement focus of Reichenstein (1998) and Reichenstein and Jennings (2003) and broader than the expanded-asset view of Chen, Ibbotson, Milevsky, and Zhu (2006). Black, Ciccotello, and Skipper’s view of the family portfolio includes such assets as “government benefits, insurance, expected inheritances or other family support, and human capital” (p. 3). In addition, they include such liabilities as mortgages and future expenditures “including but not limited to tax, housing, education, and health care” (p. 3). Theirs is one of the broadest definitions of the extended portfolio in the literature. Wilcox, Horvitz, and diBartolomeo (2006) encourage private wealth managers to form a time series of implied balance sheets for each client. Assets and liabilities are assets and liabilities, both implied and actual. For example, the present value of future savings from employment is an implied employment asset, whereas the present value of spending in retirement is an implied liability. The ratio of discretionary wealth to total assets, where discretionary wealth is total assets less total liabilities, determines the client’s appropriate level of investment aggressiveness. Clients with large relative discretionary wealth can invest aggressively, whereas clients with no or little discretionary wealth to total assets should invest conservatively. Wilcox (2008) extends the analysis to incorporate the uncertain nature of investment goals resulting largely from longevity risk and shows that this uncertainty suggests a more conservative investment posture. Modern financial engineering offers the potential to better address client needs than traditional approaches have. Bodie (2003) contrasts life-cycle investing with single-period Markowitz optimization and describes how advances in financial engineering as well as developments in individual investor psychology can be used to help investors reach their goals. Like Bodie, Merton (2003) offers insights on life-cycle investing and sophisticated financial products. For individual investors, Merton advocates considering the risk of human capital, the risk of future reinvestments, volatility of spending versus volatility of wealth, the importance of targeted expenditures (i.e., liabilities), and “condo value insurance” (which hedges against residential real estate declining in value). Warshawsky (2007) discusses how investors can efficiently hedge risks associated with longevity and long-term health care by bundling a life annuity and long-term care insurance. His work is part of a larger body of readings on life-cycle investing edited by Bodie, McLeavey, and Siegel (2007) and another subsequent set of readings focused on retirement by Bodie, Siegel, and Sullivan (2009). Institutional pension management has long incorporated the idea of asset/liability management (ALM) or liability-driven investing (LDI). It is a truism that investors without liabilities do not need to invest; the point of the asset portfolio is to defer consumption to pay for future liabilities. Amenc, Martellini, Milhau, and Ziemann (2009) attempt to more practically operationalize the insights of institutional ALM and LDI in the private wealth management context. They emphasize that liability awareness requires consideration of the properties of assets that hedge those liabilities. For many individual investors, these liabilities include inflation-sensitive future consumption and the future purchase of real estate. Although not labeled as such, a type of ALM applied to taxable private clients is seen in the work of Wilcox, Horvitz, and diBartolomeo (2006). The case for thinking about the extended portfolio of assets and liabilities is compelling. Private wealth managers can add value for clients by incorporating these ideas into portfolio management. The uniqueness of each investor’s “off-balance-sheet” assets means wealth managers can add value by customizing the financial portfolio.'], response=None, multi_responses=None, reference=\"Chen's work, as referenced in the context, analyzes the life insurance decision within the broader framework of asset allocation and human capital, highlighting its role in managing mortality risk, which depends on age and is commonly hedged through life insurance. Additionally, Chen and colleagues advocate for an expanded view of the family portfolio that includes off-balance-sheet assets such as government benefits, insurance, expected inheritances, and human capital, as well as liabilities like mortgages and future expenditures including taxes and healthcare. This comprehensive approach enables private wealth managers to better identify, quantify, and manage relevant risks, including mortality and longevity risks, while also considering tax-efficient estate planning tools like life insurance. By incorporating these insights, wealth managers can customize portfolios that balance risk, return, and tax implications effectively for individual investors.\", rubrics=None), synthesizer_name='multi_hop_specific_query_synthesizer')])"
      ]
     },
     "execution_count": 66,
     "metadata": {},
     "output_type": "execute_result"
    }
   ],
   "source": [
    "dataset"
   ]
  },
  {
   "cell_type": "code",
   "execution_count": 93,
   "id": "729822a6",
   "metadata": {},
   "outputs": [],
   "source": [
    "for test_row in dataset:\n",
    "  inputs = {\"messages\" : [HumanMessage(content=test_row.eval_sample.user_input)]}\n",
    "  response = complied_graph.invoke(inputs)\n",
    "  test_row.eval_sample.response = response[\"messages\"][-1].content\n",
    "  test_row.eval_sample.retrieved_contexts = test_row.eval_sample.reference_contexts"
   ]
  },
  {
   "cell_type": "code",
   "execution_count": 94,
   "id": "1f7d57a8",
   "metadata": {},
   "outputs": [
    {
     "data": {
      "text/html": [
       "<div>\n",
       "<style scoped>\n",
       "    .dataframe tbody tr th:only-of-type {\n",
       "        vertical-align: middle;\n",
       "    }\n",
       "\n",
       "    .dataframe tbody tr th {\n",
       "        vertical-align: top;\n",
       "    }\n",
       "\n",
       "    .dataframe thead th {\n",
       "        text-align: right;\n",
       "    }\n",
       "</style>\n",
       "<table border=\"1\" class=\"dataframe\">\n",
       "  <thead>\n",
       "    <tr style=\"text-align: right;\">\n",
       "      <th></th>\n",
       "      <th>user_input</th>\n",
       "      <th>retrieved_contexts</th>\n",
       "      <th>reference_contexts</th>\n",
       "      <th>response</th>\n",
       "      <th>reference</th>\n",
       "      <th>synthesizer_name</th>\n",
       "    </tr>\n",
       "  </thead>\n",
       "  <tbody>\n",
       "    <tr>\n",
       "      <th>0</th>\n",
       "      <td>Who is Scanlan in the context of private wealt...</td>\n",
       "      <td>[Strategic Asset Allocation and Investment Pol...</td>\n",
       "      <td>[Strategic Asset Allocation and Investment Pol...</td>\n",
       "      <td>In the context of private wealth management, t...</td>\n",
       "      <td>Scanlan is one of the authors, along with Bron...</td>\n",
       "      <td>single_hop_specifc_query_synthesizer</td>\n",
       "    </tr>\n",
       "    <tr>\n",
       "      <th>1</th>\n",
       "      <td>who is bodie in private wealth management?</td>\n",
       "      <td>[Policy Investment policy in private wealth ma...</td>\n",
       "      <td>[Policy Investment policy in private wealth ma...</td>\n",
       "      <td>Bodie in private wealth management emphasizes ...</td>\n",
       "      <td>Bodie is referenced in the context of retirees...</td>\n",
       "      <td>single_hop_specifc_query_synthesizer</td>\n",
       "    </tr>\n",
       "    <tr>\n",
       "      <th>2</th>\n",
       "      <td>What mean Inheritance in portfolio management?</td>\n",
       "      <td>[Implementation Other Issues • Asset mix • Sty...</td>\n",
       "      <td>[Implementation Other Issues • Asset mix • Sty...</td>\n",
       "      <td>Inheritance in portfolio management refers to ...</td>\n",
       "      <td>Inheritance is one of the implementation issue...</td>\n",
       "      <td>single_hop_specifc_query_synthesizer</td>\n",
       "    </tr>\n",
       "    <tr>\n",
       "      <th>3</th>\n",
       "      <td>what CFA Institute say about hedge funds for p...</td>\n",
       "      <td>[Private Wealth Management 6 ©2010 The Researc...</td>\n",
       "      <td>[Private Wealth Management 6 ©2010 The Researc...</td>\n",
       "      <td>The CFA Institute states that hedge funds are ...</td>\n",
       "      <td>Runquist (2004) introduces a set of articles f...</td>\n",
       "      <td>single_hop_specifc_query_synthesizer</td>\n",
       "    </tr>\n",
       "    <tr>\n",
       "      <th>4</th>\n",
       "      <td>How can private wealth managers utilize after-...</td>\n",
       "      <td>[&lt;1-hop&gt;\\n\\nPrivate Wealth Management 6 ©2010 ...</td>\n",
       "      <td>[&lt;1-hop&gt;\\n\\nPrivate Wealth Management 6 ©2010 ...</td>\n",
       "      <td>Private wealth managers can enhance portfolio ...</td>\n",
       "      <td>Private wealth managers can enhance portfolio ...</td>\n",
       "      <td>multi_hop_abstract_query_synthesizer</td>\n",
       "    </tr>\n",
       "    <tr>\n",
       "      <th>5</th>\n",
       "      <td>How do private wealth managers incorporate tax...</td>\n",
       "      <td>[&lt;1-hop&gt;\\n\\nPrivate Wealth Management ©2010 Th...</td>\n",
       "      <td>[&lt;1-hop&gt;\\n\\nPrivate Wealth Management ©2010 Th...</td>\n",
       "      <td>Private wealth managers incorporate tax consid...</td>\n",
       "      <td>Private wealth managers incorporate tax consid...</td>\n",
       "      <td>multi_hop_abstract_query_synthesizer</td>\n",
       "    </tr>\n",
       "    <tr>\n",
       "      <th>6</th>\n",
       "      <td>how private wealth managers use the concept of...</td>\n",
       "      <td>[&lt;1-hop&gt;\\n\\nPrivate Wealth Management ©2010 Th...</td>\n",
       "      <td>[&lt;1-hop&gt;\\n\\nPrivate Wealth Management ©2010 Th...</td>\n",
       "      <td>Private wealth managers incorporate the concep...</td>\n",
       "      <td>Private wealth managers incorporate longevity ...</td>\n",
       "      <td>multi_hop_abstract_query_synthesizer</td>\n",
       "    </tr>\n",
       "    <tr>\n",
       "      <th>7</th>\n",
       "      <td>How does tax-adjusted asset allocation influen...</td>\n",
       "      <td>[&lt;1-hop&gt;\\n\\nPrivate Wealth Management ©2010 Th...</td>\n",
       "      <td>[&lt;1-hop&gt;\\n\\nPrivate Wealth Management ©2010 Th...</td>\n",
       "      <td>Tax-adjusted asset allocation plays a crucial ...</td>\n",
       "      <td>Tax-adjusted asset allocation affects asset lo...</td>\n",
       "      <td>multi_hop_abstract_query_synthesizer</td>\n",
       "    </tr>\n",
       "    <tr>\n",
       "      <th>8</th>\n",
       "      <td>how private wealth manager do rebalancing diff...</td>\n",
       "      <td>[&lt;1-hop&gt;\\n\\nPortfolio Implementation After the...</td>\n",
       "      <td>[&lt;1-hop&gt;\\n\\nPortfolio Implementation After the...</td>\n",
       "      <td>Private wealth managers differ from institutio...</td>\n",
       "      <td>Private wealth management differs from institu...</td>\n",
       "      <td>multi_hop_specific_query_synthesizer</td>\n",
       "    </tr>\n",
       "    <tr>\n",
       "      <th>9</th>\n",
       "      <td>How do Ibbotson's guidelines on savings rates ...</td>\n",
       "      <td>[&lt;1-hop&gt;\\n\\nSavings and Wealth Accumulation. I...</td>\n",
       "      <td>[&lt;1-hop&gt;\\n\\nSavings and Wealth Accumulation. I...</td>\n",
       "      <td>Ibbotson's guidelines on savings rates for inc...</td>\n",
       "      <td>Ibbotson, Xiong, Kreitler, Kreitler, and Chen ...</td>\n",
       "      <td>multi_hop_specific_query_synthesizer</td>\n",
       "    </tr>\n",
       "    <tr>\n",
       "      <th>10</th>\n",
       "      <td>How do Ibbotson and colleagues address risk ma...</td>\n",
       "      <td>[&lt;1-hop&gt;\\n\\nRisk Management. The annuitization...</td>\n",
       "      <td>[&lt;1-hop&gt;\\n\\nRisk Management. The annuitization...</td>\n",
       "      <td>Ibbotson and colleagues address risk managemen...</td>\n",
       "      <td>Ibbotson and colleagues analyze risk managemen...</td>\n",
       "      <td>multi_hop_specific_query_synthesizer</td>\n",
       "    </tr>\n",
       "    <tr>\n",
       "      <th>11</th>\n",
       "      <td>How Chen's work on life insurance decision and...</td>\n",
       "      <td>[&lt;1-hop&gt;\\n\\nRisk Management. The annuitization...</td>\n",
       "      <td>[&lt;1-hop&gt;\\n\\nRisk Management. The annuitization...</td>\n",
       "      <td>Chen's work on life insurance decision and the...</td>\n",
       "      <td>Chen's work, as referenced in the context, ana...</td>\n",
       "      <td>multi_hop_specific_query_synthesizer</td>\n",
       "    </tr>\n",
       "  </tbody>\n",
       "</table>\n",
       "</div>"
      ],
      "text/plain": [
       "                                           user_input  \\\n",
       "0   Who is Scanlan in the context of private wealt...   \n",
       "1          who is bodie in private wealth management?   \n",
       "2      What mean Inheritance in portfolio management?   \n",
       "3   what CFA Institute say about hedge funds for p...   \n",
       "4   How can private wealth managers utilize after-...   \n",
       "5   How do private wealth managers incorporate tax...   \n",
       "6   how private wealth managers use the concept of...   \n",
       "7   How does tax-adjusted asset allocation influen...   \n",
       "8   how private wealth manager do rebalancing diff...   \n",
       "9   How do Ibbotson's guidelines on savings rates ...   \n",
       "10  How do Ibbotson and colleagues address risk ma...   \n",
       "11  How Chen's work on life insurance decision and...   \n",
       "\n",
       "                                   retrieved_contexts  \\\n",
       "0   [Strategic Asset Allocation and Investment Pol...   \n",
       "1   [Policy Investment policy in private wealth ma...   \n",
       "2   [Implementation Other Issues • Asset mix • Sty...   \n",
       "3   [Private Wealth Management 6 ©2010 The Researc...   \n",
       "4   [<1-hop>\\n\\nPrivate Wealth Management 6 ©2010 ...   \n",
       "5   [<1-hop>\\n\\nPrivate Wealth Management ©2010 Th...   \n",
       "6   [<1-hop>\\n\\nPrivate Wealth Management ©2010 Th...   \n",
       "7   [<1-hop>\\n\\nPrivate Wealth Management ©2010 Th...   \n",
       "8   [<1-hop>\\n\\nPortfolio Implementation After the...   \n",
       "9   [<1-hop>\\n\\nSavings and Wealth Accumulation. I...   \n",
       "10  [<1-hop>\\n\\nRisk Management. The annuitization...   \n",
       "11  [<1-hop>\\n\\nRisk Management. The annuitization...   \n",
       "\n",
       "                                   reference_contexts  \\\n",
       "0   [Strategic Asset Allocation and Investment Pol...   \n",
       "1   [Policy Investment policy in private wealth ma...   \n",
       "2   [Implementation Other Issues • Asset mix • Sty...   \n",
       "3   [Private Wealth Management 6 ©2010 The Researc...   \n",
       "4   [<1-hop>\\n\\nPrivate Wealth Management 6 ©2010 ...   \n",
       "5   [<1-hop>\\n\\nPrivate Wealth Management ©2010 Th...   \n",
       "6   [<1-hop>\\n\\nPrivate Wealth Management ©2010 Th...   \n",
       "7   [<1-hop>\\n\\nPrivate Wealth Management ©2010 Th...   \n",
       "8   [<1-hop>\\n\\nPortfolio Implementation After the...   \n",
       "9   [<1-hop>\\n\\nSavings and Wealth Accumulation. I...   \n",
       "10  [<1-hop>\\n\\nRisk Management. The annuitization...   \n",
       "11  [<1-hop>\\n\\nRisk Management. The annuitization...   \n",
       "\n",
       "                                             response  \\\n",
       "0   In the context of private wealth management, t...   \n",
       "1   Bodie in private wealth management emphasizes ...   \n",
       "2   Inheritance in portfolio management refers to ...   \n",
       "3   The CFA Institute states that hedge funds are ...   \n",
       "4   Private wealth managers can enhance portfolio ...   \n",
       "5   Private wealth managers incorporate tax consid...   \n",
       "6   Private wealth managers incorporate the concep...   \n",
       "7   Tax-adjusted asset allocation plays a crucial ...   \n",
       "8   Private wealth managers differ from institutio...   \n",
       "9   Ibbotson's guidelines on savings rates for inc...   \n",
       "10  Ibbotson and colleagues address risk managemen...   \n",
       "11  Chen's work on life insurance decision and the...   \n",
       "\n",
       "                                            reference  \\\n",
       "0   Scanlan is one of the authors, along with Bron...   \n",
       "1   Bodie is referenced in the context of retirees...   \n",
       "2   Inheritance is one of the implementation issue...   \n",
       "3   Runquist (2004) introduces a set of articles f...   \n",
       "4   Private wealth managers can enhance portfolio ...   \n",
       "5   Private wealth managers incorporate tax consid...   \n",
       "6   Private wealth managers incorporate longevity ...   \n",
       "7   Tax-adjusted asset allocation affects asset lo...   \n",
       "8   Private wealth management differs from institu...   \n",
       "9   Ibbotson, Xiong, Kreitler, Kreitler, and Chen ...   \n",
       "10  Ibbotson and colleagues analyze risk managemen...   \n",
       "11  Chen's work, as referenced in the context, ana...   \n",
       "\n",
       "                        synthesizer_name  \n",
       "0   single_hop_specifc_query_synthesizer  \n",
       "1   single_hop_specifc_query_synthesizer  \n",
       "2   single_hop_specifc_query_synthesizer  \n",
       "3   single_hop_specifc_query_synthesizer  \n",
       "4   multi_hop_abstract_query_synthesizer  \n",
       "5   multi_hop_abstract_query_synthesizer  \n",
       "6   multi_hop_abstract_query_synthesizer  \n",
       "7   multi_hop_abstract_query_synthesizer  \n",
       "8   multi_hop_specific_query_synthesizer  \n",
       "9   multi_hop_specific_query_synthesizer  \n",
       "10  multi_hop_specific_query_synthesizer  \n",
       "11  multi_hop_specific_query_synthesizer  "
      ]
     },
     "execution_count": 94,
     "metadata": {},
     "output_type": "execute_result"
    }
   ],
   "source": [
    "dataset.to_pandas()"
   ]
  },
  {
   "cell_type": "code",
   "execution_count": 95,
   "id": "4d281c57",
   "metadata": {},
   "outputs": [],
   "source": [
    "from ragas import EvaluationDataset\n",
    "\n",
    "evaluation_dataset = EvaluationDataset.from_pandas(dataset.to_pandas())"
   ]
  },
  {
   "cell_type": "code",
   "execution_count": 96,
   "id": "6a0863a1",
   "metadata": {},
   "outputs": [],
   "source": [
    "from ragas import evaluate\n",
    "from ragas.llms import LangchainLLMWrapper\n",
    "\n",
    "evaluator_llm = LangchainLLMWrapper(ChatOpenAI(model=\"gpt-4.1\"))"
   ]
  },
  {
   "cell_type": "code",
   "execution_count": 97,
   "id": "16282cec",
   "metadata": {},
   "outputs": [
    {
     "data": {
      "application/vnd.jupyter.widget-view+json": {
       "model_id": "e0a24d389c0b44f1b2ed5d0e0f3661ef",
       "version_major": 2,
       "version_minor": 0
      },
      "text/plain": [
       "Evaluating:   0%|          | 0/72 [00:00<?, ?it/s]"
      ]
     },
     "metadata": {},
     "output_type": "display_data"
    },
    {
     "name": "stderr",
     "output_type": "stream",
     "text": [
      "Exception raised in Job[5]: RateLimitError(Error code: 429 - {'error': {'message': 'Rate limit reached for gpt-4.1 in organization org-KU4B0uriZ43b7j5r6Fxzq9KV on tokens per min (TPM): Limit 30000, Used 28513, Requested 2065. Please try again in 1.156s. Visit https://platform.openai.com/account/rate-limits to learn more.', 'type': 'tokens', 'param': None, 'code': 'rate_limit_exceeded'}})\n",
      "Exception raised in Job[11]: RateLimitError(Error code: 429 - {'error': {'message': 'Rate limit reached for gpt-4.1 in organization org-KU4B0uriZ43b7j5r6Fxzq9KV on tokens per min (TPM): Limit 30000, Used 29459, Requested 2134. Please try again in 3.186s. Visit https://platform.openai.com/account/rate-limits to learn more.', 'type': 'tokens', 'param': None, 'code': 'rate_limit_exceeded'}})\n",
      "Exception raised in Job[19]: RateLimitError(Error code: 429 - {'error': {'message': 'Rate limit reached for gpt-4.1 in organization org-KU4B0uriZ43b7j5r6Fxzq9KV on tokens per min (TPM): Limit 30000, Used 29731, Requested 2225. Please try again in 3.911s. Visit https://platform.openai.com/account/rate-limits to learn more.', 'type': 'tokens', 'param': None, 'code': 'rate_limit_exceeded'}})\n",
      "Exception raised in Job[28]: RateLimitError(Error code: 429 - {'error': {'message': 'Rate limit reached for gpt-4.1 in organization org-KU4B0uriZ43b7j5r6Fxzq9KV on tokens per min (TPM): Limit 30000, Used 29760, Requested 2579. Please try again in 4.678s. Visit https://platform.openai.com/account/rate-limits to learn more.', 'type': 'tokens', 'param': None, 'code': 'rate_limit_exceeded'}})\n",
      "Exception raised in Job[36]: InternalServerError(upstream connect error or disconnect/reset before headers. reset reason: connection termination)\n",
      "Exception raised in Job[30]: RateLimitError(Error code: 429 - {'error': {'message': 'Rate limit reached for gpt-4.1 in organization org-KU4B0uriZ43b7j5r6Fxzq9KV on tokens per min (TPM): Limit 30000, Used 29912, Requested 2400. Please try again in 4.624s. Visit https://platform.openai.com/account/rate-limits to learn more.', 'type': 'tokens', 'param': None, 'code': 'rate_limit_exceeded'}})\n",
      "Exception raised in Job[31]: RateLimitError(Error code: 429 - {'error': {'message': 'Rate limit reached for gpt-4.1 in organization org-KU4B0uriZ43b7j5r6Fxzq9KV on tokens per min (TPM): Limit 30000, Used 30000, Requested 2410. Please try again in 4.82s. Visit https://platform.openai.com/account/rate-limits to learn more.', 'type': 'tokens', 'param': None, 'code': 'rate_limit_exceeded'}})\n",
      "Exception raised in Job[35]: RateLimitError(Error code: 429 - {'error': {'message': 'Rate limit reached for gpt-4.1 in organization org-KU4B0uriZ43b7j5r6Fxzq9KV on tokens per min (TPM): Limit 30000, Used 29485, Requested 2200. Please try again in 3.37s. Visit https://platform.openai.com/account/rate-limits to learn more.', 'type': 'tokens', 'param': None, 'code': 'rate_limit_exceeded'}})\n",
      "Exception raised in Job[24]: RateLimitError(Error code: 429 - {'error': {'message': 'Rate limit reached for gpt-4.1 in organization org-KU4B0uriZ43b7j5r6Fxzq9KV on tokens per min (TPM): Limit 30000, Used 28636, Requested 3225. Please try again in 3.722s. Visit https://platform.openai.com/account/rate-limits to learn more.', 'type': 'tokens', 'param': None, 'code': 'rate_limit_exceeded'}})\n",
      "Exception raised in Job[37]: RateLimitError(Error code: 429 - {'error': {'message': 'Rate limit reached for gpt-4.1 in organization org-KU4B0uriZ43b7j5r6Fxzq9KV on tokens per min (TPM): Limit 30000, Used 29341, Requested 2169. Please try again in 3.02s. Visit https://platform.openai.com/account/rate-limits to learn more.', 'type': 'tokens', 'param': None, 'code': 'rate_limit_exceeded'}})\n",
      "Exception raised in Job[29]: RateLimitError(Error code: 429 - {'error': {'message': 'Rate limit reached for gpt-4.1 in organization org-KU4B0uriZ43b7j5r6Fxzq9KV on tokens per min (TPM): Limit 30000, Used 29968, Requested 2996. Please try again in 5.928s. Visit https://platform.openai.com/account/rate-limits to learn more.', 'type': 'tokens', 'param': None, 'code': 'rate_limit_exceeded'}})\n",
      "Exception raised in Job[42]: RateLimitError(Error code: 429 - {'error': {'message': 'Rate limit reached for gpt-4.1 in organization org-KU4B0uriZ43b7j5r6Fxzq9KV on tokens per min (TPM): Limit 30000, Used 30000, Requested 2385. Please try again in 4.77s. Visit https://platform.openai.com/account/rate-limits to learn more.', 'type': 'tokens', 'param': None, 'code': 'rate_limit_exceeded'}})\n",
      "Exception raised in Job[25]: TimeoutError()\n",
      "Exception raised in Job[41]: RateLimitError(Error code: 429 - {'error': {'message': 'Rate limit reached for gpt-4.1 in organization org-KU4B0uriZ43b7j5r6Fxzq9KV on tokens per min (TPM): Limit 30000, Used 28909, Requested 2385. Please try again in 2.588s. Visit https://platform.openai.com/account/rate-limits to learn more.', 'type': 'tokens', 'param': None, 'code': 'rate_limit_exceeded'}})\n",
      "Exception raised in Job[43]: RateLimitError(Error code: 429 - {'error': {'message': 'Rate limit reached for gpt-4.1 in organization org-KU4B0uriZ43b7j5r6Fxzq9KV on tokens per min (TPM): Limit 30000, Used 29781, Requested 2714. Please try again in 4.99s. Visit https://platform.openai.com/account/rate-limits to learn more.', 'type': 'tokens', 'param': None, 'code': 'rate_limit_exceeded'}})\n"
     ]
    },
    {
     "data": {
      "text/plain": [
       "{'context_recall': 0.9479, 'faithfulness': 0.3912, 'factual_correctness': 0.2850, 'answer_relevancy': 0.8706, 'context_entity_recall': 0.5350, 'noise_sensitivity_relevant': 0.0809}"
      ]
     },
     "execution_count": 97,
     "metadata": {},
     "output_type": "execute_result"
    }
   ],
   "source": [
    "from ragas.metrics import LLMContextRecall, Faithfulness, FactualCorrectness, ResponseRelevancy, ContextEntityRecall, NoiseSensitivity\n",
    "from ragas import evaluate, RunConfig\n",
    "\n",
    "custom_run_config = RunConfig(timeout=360)\n",
    "\n",
    "result = evaluate(\n",
    "    dataset=evaluation_dataset,\n",
    "    metrics=[LLMContextRecall(), Faithfulness(), FactualCorrectness(), ResponseRelevancy(), ContextEntityRecall(), NoiseSensitivity()],\n",
    "    llm=evaluator_llm,\n",
    "    run_config=custom_run_config\n",
    ")\n",
    "result"
   ]
  },
  {
   "cell_type": "code",
   "execution_count": 99,
   "id": "4dd48c74",
   "metadata": {},
   "outputs": [],
   "source": [
    "os.environ[\"COHERE_API_KEY\"] = getpass.getpass(\"Please enter your Cohere API key!\")"
   ]
  },
  {
   "cell_type": "code",
   "execution_count": 100,
   "id": "0b2b1e7e",
   "metadata": {},
   "outputs": [],
   "source": [
    "from langgraph.graph import START, StateGraph\n",
    "from typing_extensions import TypedDict\n",
    "from langchain_core.documents import Document\n",
    "\n",
    "class State(TypedDict):\n",
    "  question: str\n",
    "  context: list[Document]\n",
    "  response: str"
   ]
  },
  {
   "cell_type": "code",
   "execution_count": 101,
   "id": "a61ee9fb",
   "metadata": {},
   "outputs": [],
   "source": [
    "from langchain.retrievers.contextual_compression import ContextualCompressionRetriever\n",
    "from langchain_cohere import CohereRerank\n",
    "\n",
    "def retrieve_adjusted(state):\n",
    "  compressor = CohereRerank(model=\"rerank-v3.5\", top_n=10)\n",
    "  compression_retriever = ContextualCompressionRetriever(\n",
    "    base_compressor=compressor, base_retriever=retriever, search_kwargs={\"k\": 5}\n",
    "  )\n",
    "  retrieved_docs = compression_retriever.invoke(state[\"question\"])\n",
    "  return {\"context\" : retrieved_docs}"
   ]
  },
  {
   "cell_type": "code",
   "execution_count": 102,
   "id": "684bdfd9",
   "metadata": {},
   "outputs": [],
   "source": [
    "from langchain.prompts import ChatPromptTemplate\n",
    "\n",
    "RAG_PROMPT = \"\"\"\\\n",
    "You are a helpful assistant who answers questions based on provided context. You must only use the provided context, and cannot use your own knowledge.\n",
    "\n",
    "### Question\n",
    "{question}\n",
    "\n",
    "### Context\n",
    "{context}\n",
    "\"\"\"\n",
    "\n",
    "rag_prompt = ChatPromptTemplate.from_template(RAG_PROMPT)"
   ]
  },
  {
   "cell_type": "markdown",
   "id": "5e96944e",
   "metadata": {},
   "source": [
    "Generation"
   ]
  },
  {
   "cell_type": "code",
   "execution_count": 103,
   "id": "a61aba7c",
   "metadata": {},
   "outputs": [],
   "source": [
    "from langchain_openai import ChatOpenAI\n",
    "\n",
    "llm = ChatOpenAI(model=\"gpt-4.1-mini\")"
   ]
  },
  {
   "cell_type": "code",
   "execution_count": 104,
   "id": "272b2973",
   "metadata": {},
   "outputs": [],
   "source": [
    "def generate(state):\n",
    "    docs_content = \"\\n\\n\".join([doc.page_content for doc in state[\"context\"]])\n",
    "    messages = rag_prompt.format_messages(question=state[\"question\"], context=docs_content)\n",
    "    response = llm.invoke(messages)\n",
    "    return {\"response\": response.content}"
   ]
  },
  {
   "cell_type": "markdown",
   "id": "d3e68359",
   "metadata": {},
   "source": [
    "Building RAG Graph with Lang Graph"
   ]
  },
  {
   "cell_type": "code",
   "execution_count": 106,
   "id": "2fe1d96b",
   "metadata": {},
   "outputs": [],
   "source": [
    "graph_builder = StateGraph(State)\n",
    "graph_builder = graph_builder.add_sequence([retrieve_adjusted, generate])\n",
    "graph_builder.add_edge(START, \"retrieve_adjusted\")\n",
    "rag_graph = graph_builder.compile()"
   ]
  },
  {
   "cell_type": "code",
   "execution_count": 109,
   "id": "347475c3",
   "metadata": {},
   "outputs": [],
   "source": [
    "response = rag_graph.invoke({\"question\": \"what is financial Analysis?\"})"
   ]
  },
  {
   "cell_type": "code",
   "execution_count": 110,
   "id": "e3622692",
   "metadata": {},
   "outputs": [
    {
     "data": {
      "text/plain": [
       "'Based on the provided context, financial analysis involves the performance evaluation of a full portfolio or its components, typically focusing on two main aspects: measuring returns (either pre-tax or after-tax) and assessing those returns. It may include benchmarking approaches and methods to address challenges such as unrealized capital gains. Financial analysis is used within areas like private equity and private wealth management to track trends and assess investment performance.'"
      ]
     },
     "execution_count": 110,
     "metadata": {},
     "output_type": "execute_result"
    }
   ],
   "source": [
    "response[\"response\"]"
   ]
  },
  {
   "cell_type": "code",
   "execution_count": 112,
   "id": "fa79cb02",
   "metadata": {},
   "outputs": [],
   "source": [
    "from langchain_core.messages import HumanMessage\n",
    "from langchain_core.tools import tool\n",
    "\n",
    "@tool\n",
    "def ai_rag_tool(question: str) -> str:\n",
    "    \"\"\"\n",
    "    Use this tool to get information from the knowledge base.\n",
    "    \"\"\"\n",
    "    response = rag_graph.invoke({\"question\": question})\n",
    "    return {\n",
    "        \"messages\": [HumanMessage(content=response[\"response\"])],\n",
    "        \"context\": response[\"context\"]\n",
    "    }"
   ]
  },
  {
   "cell_type": "code",
   "execution_count": 113,
   "id": "37d2a9d7",
   "metadata": {},
   "outputs": [],
   "source": [
    "tool_belt = [\n",
    "    tavily_tool,\n",
    "    arxiv_tool,\n",
    "    yfinance_tool,\n",
    "    ai_rag_tool\n",
    "]"
   ]
  },
  {
   "cell_type": "code",
   "execution_count": 114,
   "id": "2f9e9c5b",
   "metadata": {},
   "outputs": [],
   "source": [
    "from langchain_openai import ChatOpenAI\n",
    "\n",
    "model = ChatOpenAI(model=\"gpt-4o\", temperature=0)"
   ]
  },
  {
   "cell_type": "code",
   "execution_count": 115,
   "id": "4fcb4888",
   "metadata": {},
   "outputs": [],
   "source": [
    "model = model.bind_tools(tool_belt)"
   ]
  },
  {
   "cell_type": "code",
   "execution_count": 117,
   "id": "c3f3d491",
   "metadata": {},
   "outputs": [],
   "source": [
    "from typing import TypedDict, Annotated\n",
    "from langgraph.graph.message import add_messages\n",
    "import operator\n",
    "from langchain_core.messages import BaseMessage, HumanMessage\n",
    "from langchain_core.documents import Document\n",
    "\n",
    "\n",
    "class AgentState(TypedDict):\n",
    "  messages: Annotated[list, add_messages]\n",
    "  context: list[Document]"
   ]
  },
  {
   "cell_type": "code",
   "execution_count": 118,
   "id": "a6ea6be1",
   "metadata": {},
   "outputs": [],
   "source": [
    "from langgraph.prebuilt import ToolNode\n",
    "\n",
    "def call_model(state):\n",
    "  messages = state[\"messages\"]\n",
    "  response = model.invoke(messages)\n",
    "  return {\n",
    "    \"messages\" : [response],\n",
    "    \"context\": state.get(\"context\", [])\n",
    "  }\n",
    "\n",
    "tool_node = ToolNode(tool_belt)"
   ]
  },
  {
   "cell_type": "code",
   "execution_count": 119,
   "id": "4c28e38b",
   "metadata": {},
   "outputs": [
    {
     "data": {
      "text/plain": [
       "<langgraph.graph.state.StateGraph at 0x7fb168c6c950>"
      ]
     },
     "execution_count": 119,
     "metadata": {},
     "output_type": "execute_result"
    }
   ],
   "source": [
    "from langgraph.graph import StateGraph, END\n",
    "\n",
    "uncompiled_graph = StateGraph(AgentState)\n",
    "\n",
    "uncompiled_graph.add_node(\"agent\", call_model)\n",
    "uncompiled_graph.add_node(\"action\", tool_node)"
   ]
  },
  {
   "cell_type": "code",
   "execution_count": 120,
   "id": "a7e86300",
   "metadata": {},
   "outputs": [
    {
     "data": {
      "text/plain": [
       "<langgraph.graph.state.StateGraph at 0x7fb168c6c950>"
      ]
     },
     "execution_count": 120,
     "metadata": {},
     "output_type": "execute_result"
    }
   ],
   "source": [
    "uncompiled_graph.set_entry_point(\"agent\")"
   ]
  },
  {
   "cell_type": "code",
   "execution_count": 121,
   "id": "57bccbb7",
   "metadata": {},
   "outputs": [
    {
     "data": {
      "text/plain": [
       "<langgraph.graph.state.StateGraph at 0x7fb168c6c950>"
      ]
     },
     "execution_count": 121,
     "metadata": {},
     "output_type": "execute_result"
    }
   ],
   "source": [
    "def should_continue(state):\n",
    "  last_message = state[\"messages\"][-1]\n",
    "\n",
    "  if last_message.tool_calls:\n",
    "    return \"action\"\n",
    "\n",
    "  return END\n",
    "\n",
    "uncompiled_graph.add_conditional_edges(\n",
    "    \"agent\",\n",
    "    should_continue\n",
    ")"
   ]
  },
  {
   "cell_type": "code",
   "execution_count": 122,
   "id": "d95c14b8",
   "metadata": {},
   "outputs": [
    {
     "data": {
      "text/plain": [
       "<langgraph.graph.state.StateGraph at 0x7fb168c6c950>"
      ]
     },
     "execution_count": 122,
     "metadata": {},
     "output_type": "execute_result"
    }
   ],
   "source": [
    "uncompiled_graph.add_edge(\"action\", \"agent\")"
   ]
  },
  {
   "cell_type": "code",
   "execution_count": 123,
   "id": "1767dd2c",
   "metadata": {},
   "outputs": [],
   "source": [
    "complied_graph = uncompiled_graph.compile()"
   ]
  },
  {
   "cell_type": "code",
   "execution_count": 124,
   "id": "f5e6bb15",
   "metadata": {},
   "outputs": [],
   "source": [
    "for test_row in dataset:\n",
    "  inputs = {\"messages\" : [HumanMessage(content=test_row.eval_sample.user_input)]}\n",
    "  response = complied_graph.invoke(inputs)\n",
    "  test_row.eval_sample.response = response[\"messages\"][-1].content\n",
    "  test_row.eval_sample.retrieved_contexts = test_row.eval_sample.reference_contexts"
   ]
  },
  {
   "cell_type": "code",
   "execution_count": 125,
   "id": "f4066382",
   "metadata": {},
   "outputs": [
    {
     "data": {
      "text/html": [
       "<div>\n",
       "<style scoped>\n",
       "    .dataframe tbody tr th:only-of-type {\n",
       "        vertical-align: middle;\n",
       "    }\n",
       "\n",
       "    .dataframe tbody tr th {\n",
       "        vertical-align: top;\n",
       "    }\n",
       "\n",
       "    .dataframe thead th {\n",
       "        text-align: right;\n",
       "    }\n",
       "</style>\n",
       "<table border=\"1\" class=\"dataframe\">\n",
       "  <thead>\n",
       "    <tr style=\"text-align: right;\">\n",
       "      <th></th>\n",
       "      <th>user_input</th>\n",
       "      <th>retrieved_contexts</th>\n",
       "      <th>reference_contexts</th>\n",
       "      <th>response</th>\n",
       "      <th>reference</th>\n",
       "      <th>synthesizer_name</th>\n",
       "    </tr>\n",
       "  </thead>\n",
       "  <tbody>\n",
       "    <tr>\n",
       "      <th>0</th>\n",
       "      <td>Who is Scanlan in the context of private wealt...</td>\n",
       "      <td>[Strategic Asset Allocation and Investment Pol...</td>\n",
       "      <td>[Strategic Asset Allocation and Investment Pol...</td>\n",
       "      <td>In the context of private wealth management, \"...</td>\n",
       "      <td>Scanlan is one of the authors, along with Bron...</td>\n",
       "      <td>single_hop_specifc_query_synthesizer</td>\n",
       "    </tr>\n",
       "    <tr>\n",
       "      <th>1</th>\n",
       "      <td>who is bodie in private wealth management?</td>\n",
       "      <td>[Policy Investment policy in private wealth ma...</td>\n",
       "      <td>[Policy Investment policy in private wealth ma...</td>\n",
       "      <td>Bodie in private wealth management refers to Z...</td>\n",
       "      <td>Bodie is referenced in the context of retirees...</td>\n",
       "      <td>single_hop_specifc_query_synthesizer</td>\n",
       "    </tr>\n",
       "    <tr>\n",
       "      <th>2</th>\n",
       "      <td>What mean Inheritance in portfolio management?</td>\n",
       "      <td>[Implementation Other Issues • Asset mix • Sty...</td>\n",
       "      <td>[Implementation Other Issues • Asset mix • Sty...</td>\n",
       "      <td>Inheritance in portfolio management refers to ...</td>\n",
       "      <td>Inheritance is one of the implementation issue...</td>\n",
       "      <td>single_hop_specifc_query_synthesizer</td>\n",
       "    </tr>\n",
       "    <tr>\n",
       "      <th>3</th>\n",
       "      <td>what CFA Institute say about hedge funds for p...</td>\n",
       "      <td>[Private Wealth Management 6 ©2010 The Researc...</td>\n",
       "      <td>[Private Wealth Management 6 ©2010 The Researc...</td>\n",
       "      <td>The CFA Institute views hedge funds not as a s...</td>\n",
       "      <td>Runquist (2004) introduces a set of articles f...</td>\n",
       "      <td>single_hop_specifc_query_synthesizer</td>\n",
       "    </tr>\n",
       "    <tr>\n",
       "      <th>4</th>\n",
       "      <td>How can private wealth managers utilize after-...</td>\n",
       "      <td>[&lt;1-hop&gt;\\n\\nPrivate Wealth Management 6 ©2010 ...</td>\n",
       "      <td>[&lt;1-hop&gt;\\n\\nPrivate Wealth Management 6 ©2010 ...</td>\n",
       "      <td>Private wealth managers can enhance portfolio ...</td>\n",
       "      <td>Private wealth managers can enhance portfolio ...</td>\n",
       "      <td>multi_hop_abstract_query_synthesizer</td>\n",
       "    </tr>\n",
       "    <tr>\n",
       "      <th>5</th>\n",
       "      <td>How do private wealth managers incorporate tax...</td>\n",
       "      <td>[&lt;1-hop&gt;\\n\\nPrivate Wealth Management ©2010 Th...</td>\n",
       "      <td>[&lt;1-hop&gt;\\n\\nPrivate Wealth Management ©2010 Th...</td>\n",
       "      <td>Private wealth managers incorporate tax consid...</td>\n",
       "      <td>Private wealth managers incorporate tax consid...</td>\n",
       "      <td>multi_hop_abstract_query_synthesizer</td>\n",
       "    </tr>\n",
       "    <tr>\n",
       "      <th>6</th>\n",
       "      <td>how private wealth managers use the concept of...</td>\n",
       "      <td>[&lt;1-hop&gt;\\n\\nPrivate Wealth Management ©2010 Th...</td>\n",
       "      <td>[&lt;1-hop&gt;\\n\\nPrivate Wealth Management ©2010 Th...</td>\n",
       "      <td>Private wealth managers use the concept of lon...</td>\n",
       "      <td>Private wealth managers incorporate longevity ...</td>\n",
       "      <td>multi_hop_abstract_query_synthesizer</td>\n",
       "    </tr>\n",
       "    <tr>\n",
       "      <th>7</th>\n",
       "      <td>How does tax-adjusted asset allocation influen...</td>\n",
       "      <td>[&lt;1-hop&gt;\\n\\nPrivate Wealth Management ©2010 Th...</td>\n",
       "      <td>[&lt;1-hop&gt;\\n\\nPrivate Wealth Management ©2010 Th...</td>\n",
       "      <td>Tax-adjusted asset allocation significantly in...</td>\n",
       "      <td>Tax-adjusted asset allocation affects asset lo...</td>\n",
       "      <td>multi_hop_abstract_query_synthesizer</td>\n",
       "    </tr>\n",
       "    <tr>\n",
       "      <th>8</th>\n",
       "      <td>how private wealth manager do rebalancing diff...</td>\n",
       "      <td>[&lt;1-hop&gt;\\n\\nPortfolio Implementation After the...</td>\n",
       "      <td>[&lt;1-hop&gt;\\n\\nPortfolio Implementation After the...</td>\n",
       "      <td>Private wealth managers and institutional mana...</td>\n",
       "      <td>Private wealth management differs from institu...</td>\n",
       "      <td>multi_hop_specific_query_synthesizer</td>\n",
       "    </tr>\n",
       "    <tr>\n",
       "      <th>9</th>\n",
       "      <td>How do Ibbotson's guidelines on savings rates ...</td>\n",
       "      <td>[&lt;1-hop&gt;\\n\\nSavings and Wealth Accumulation. I...</td>\n",
       "      <td>[&lt;1-hop&gt;\\n\\nSavings and Wealth Accumulation. I...</td>\n",
       "      <td>Ibbotson's guidelines on savings rates for inc...</td>\n",
       "      <td>Ibbotson, Xiong, Kreitler, Kreitler, and Chen ...</td>\n",
       "      <td>multi_hop_specific_query_synthesizer</td>\n",
       "    </tr>\n",
       "    <tr>\n",
       "      <th>10</th>\n",
       "      <td>How do Ibbotson and colleagues address risk ma...</td>\n",
       "      <td>[&lt;1-hop&gt;\\n\\nRisk Management. The annuitization...</td>\n",
       "      <td>[&lt;1-hop&gt;\\n\\nRisk Management. The annuitization...</td>\n",
       "      <td>Ibbotson and colleagues address risk managemen...</td>\n",
       "      <td>Ibbotson and colleagues analyze risk managemen...</td>\n",
       "      <td>multi_hop_specific_query_synthesizer</td>\n",
       "    </tr>\n",
       "    <tr>\n",
       "      <th>11</th>\n",
       "      <td>How Chen's work on life insurance decision and...</td>\n",
       "      <td>[&lt;1-hop&gt;\\n\\nRisk Management. The annuitization...</td>\n",
       "      <td>[&lt;1-hop&gt;\\n\\nRisk Management. The annuitization...</td>\n",
       "      <td>Chen's work, particularly in collaboration wit...</td>\n",
       "      <td>Chen's work, as referenced in the context, ana...</td>\n",
       "      <td>multi_hop_specific_query_synthesizer</td>\n",
       "    </tr>\n",
       "  </tbody>\n",
       "</table>\n",
       "</div>"
      ],
      "text/plain": [
       "                                           user_input  \\\n",
       "0   Who is Scanlan in the context of private wealt...   \n",
       "1          who is bodie in private wealth management?   \n",
       "2      What mean Inheritance in portfolio management?   \n",
       "3   what CFA Institute say about hedge funds for p...   \n",
       "4   How can private wealth managers utilize after-...   \n",
       "5   How do private wealth managers incorporate tax...   \n",
       "6   how private wealth managers use the concept of...   \n",
       "7   How does tax-adjusted asset allocation influen...   \n",
       "8   how private wealth manager do rebalancing diff...   \n",
       "9   How do Ibbotson's guidelines on savings rates ...   \n",
       "10  How do Ibbotson and colleagues address risk ma...   \n",
       "11  How Chen's work on life insurance decision and...   \n",
       "\n",
       "                                   retrieved_contexts  \\\n",
       "0   [Strategic Asset Allocation and Investment Pol...   \n",
       "1   [Policy Investment policy in private wealth ma...   \n",
       "2   [Implementation Other Issues • Asset mix • Sty...   \n",
       "3   [Private Wealth Management 6 ©2010 The Researc...   \n",
       "4   [<1-hop>\\n\\nPrivate Wealth Management 6 ©2010 ...   \n",
       "5   [<1-hop>\\n\\nPrivate Wealth Management ©2010 Th...   \n",
       "6   [<1-hop>\\n\\nPrivate Wealth Management ©2010 Th...   \n",
       "7   [<1-hop>\\n\\nPrivate Wealth Management ©2010 Th...   \n",
       "8   [<1-hop>\\n\\nPortfolio Implementation After the...   \n",
       "9   [<1-hop>\\n\\nSavings and Wealth Accumulation. I...   \n",
       "10  [<1-hop>\\n\\nRisk Management. The annuitization...   \n",
       "11  [<1-hop>\\n\\nRisk Management. The annuitization...   \n",
       "\n",
       "                                   reference_contexts  \\\n",
       "0   [Strategic Asset Allocation and Investment Pol...   \n",
       "1   [Policy Investment policy in private wealth ma...   \n",
       "2   [Implementation Other Issues • Asset mix • Sty...   \n",
       "3   [Private Wealth Management 6 ©2010 The Researc...   \n",
       "4   [<1-hop>\\n\\nPrivate Wealth Management 6 ©2010 ...   \n",
       "5   [<1-hop>\\n\\nPrivate Wealth Management ©2010 Th...   \n",
       "6   [<1-hop>\\n\\nPrivate Wealth Management ©2010 Th...   \n",
       "7   [<1-hop>\\n\\nPrivate Wealth Management ©2010 Th...   \n",
       "8   [<1-hop>\\n\\nPortfolio Implementation After the...   \n",
       "9   [<1-hop>\\n\\nSavings and Wealth Accumulation. I...   \n",
       "10  [<1-hop>\\n\\nRisk Management. The annuitization...   \n",
       "11  [<1-hop>\\n\\nRisk Management. The annuitization...   \n",
       "\n",
       "                                             response  \\\n",
       "0   In the context of private wealth management, \"...   \n",
       "1   Bodie in private wealth management refers to Z...   \n",
       "2   Inheritance in portfolio management refers to ...   \n",
       "3   The CFA Institute views hedge funds not as a s...   \n",
       "4   Private wealth managers can enhance portfolio ...   \n",
       "5   Private wealth managers incorporate tax consid...   \n",
       "6   Private wealth managers use the concept of lon...   \n",
       "7   Tax-adjusted asset allocation significantly in...   \n",
       "8   Private wealth managers and institutional mana...   \n",
       "9   Ibbotson's guidelines on savings rates for inc...   \n",
       "10  Ibbotson and colleagues address risk managemen...   \n",
       "11  Chen's work, particularly in collaboration wit...   \n",
       "\n",
       "                                            reference  \\\n",
       "0   Scanlan is one of the authors, along with Bron...   \n",
       "1   Bodie is referenced in the context of retirees...   \n",
       "2   Inheritance is one of the implementation issue...   \n",
       "3   Runquist (2004) introduces a set of articles f...   \n",
       "4   Private wealth managers can enhance portfolio ...   \n",
       "5   Private wealth managers incorporate tax consid...   \n",
       "6   Private wealth managers incorporate longevity ...   \n",
       "7   Tax-adjusted asset allocation affects asset lo...   \n",
       "8   Private wealth management differs from institu...   \n",
       "9   Ibbotson, Xiong, Kreitler, Kreitler, and Chen ...   \n",
       "10  Ibbotson and colleagues analyze risk managemen...   \n",
       "11  Chen's work, as referenced in the context, ana...   \n",
       "\n",
       "                        synthesizer_name  \n",
       "0   single_hop_specifc_query_synthesizer  \n",
       "1   single_hop_specifc_query_synthesizer  \n",
       "2   single_hop_specifc_query_synthesizer  \n",
       "3   single_hop_specifc_query_synthesizer  \n",
       "4   multi_hop_abstract_query_synthesizer  \n",
       "5   multi_hop_abstract_query_synthesizer  \n",
       "6   multi_hop_abstract_query_synthesizer  \n",
       "7   multi_hop_abstract_query_synthesizer  \n",
       "8   multi_hop_specific_query_synthesizer  \n",
       "9   multi_hop_specific_query_synthesizer  \n",
       "10  multi_hop_specific_query_synthesizer  \n",
       "11  multi_hop_specific_query_synthesizer  "
      ]
     },
     "execution_count": 125,
     "metadata": {},
     "output_type": "execute_result"
    }
   ],
   "source": [
    "dataset.to_pandas()"
   ]
  },
  {
   "cell_type": "code",
   "execution_count": 126,
   "id": "e289459f",
   "metadata": {},
   "outputs": [],
   "source": [
    "from ragas import EvaluationDataset\n",
    "\n",
    "evaluation_dataset = EvaluationDataset.from_pandas(dataset.to_pandas())"
   ]
  },
  {
   "cell_type": "code",
   "execution_count": 127,
   "id": "194d76d4",
   "metadata": {},
   "outputs": [],
   "source": [
    "from ragas import evaluate\n",
    "from ragas.llms import LangchainLLMWrapper\n",
    "\n",
    "evaluator_llm = LangchainLLMWrapper(ChatOpenAI(model=\"gpt-4.1-mini\"))"
   ]
  },
  {
   "cell_type": "code",
   "execution_count": 128,
   "id": "db824f78",
   "metadata": {},
   "outputs": [
    {
     "data": {
      "application/vnd.jupyter.widget-view+json": {
       "model_id": "0c89ab4e86074f0d9ec4b4227d0affd7",
       "version_major": 2,
       "version_minor": 0
      },
      "text/plain": [
       "Evaluating:   0%|          | 0/72 [00:00<?, ?it/s]"
      ]
     },
     "metadata": {},
     "output_type": "display_data"
    },
    {
     "data": {
      "text/plain": [
       "{'context_recall': 0.9694, 'faithfulness': 0.5992, 'factual_correctness': 0.4900, 'answer_relevancy': 0.9583, 'context_entity_recall': 0.2801, 'noise_sensitivity_relevant': 0.1693}"
      ]
     },
     "execution_count": 128,
     "metadata": {},
     "output_type": "execute_result"
    }
   ],
   "source": [
    "from ragas.metrics import LLMContextRecall, Faithfulness, FactualCorrectness, ResponseRelevancy, ContextEntityRecall, NoiseSensitivity\n",
    "from ragas import evaluate, RunConfig\n",
    "\n",
    "custom_run_config = RunConfig(timeout=360)\n",
    "\n",
    "result = evaluate(\n",
    "    dataset=evaluation_dataset,\n",
    "    metrics=[LLMContextRecall(), Faithfulness(), FactualCorrectness(), ResponseRelevancy(), ContextEntityRecall(), NoiseSensitivity()],\n",
    "    llm=evaluator_llm,\n",
    "    run_config=custom_run_config\n",
    ")\n",
    "result"
   ]
  }
 ],
 "metadata": {
  "kernelspec": {
   "display_name": ".venv",
   "language": "python",
   "name": "python3"
  },
  "language_info": {
   "codemirror_mode": {
    "name": "ipython",
    "version": 3
   },
   "file_extension": ".py",
   "mimetype": "text/x-python",
   "name": "python",
   "nbconvert_exporter": "python",
   "pygments_lexer": "ipython3",
   "version": "3.13.5"
  }
 },
 "nbformat": 4,
 "nbformat_minor": 5
}
